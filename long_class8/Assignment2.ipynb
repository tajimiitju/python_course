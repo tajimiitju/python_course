{
 "cells": [
  {
   "cell_type": "code",
   "execution_count": 1,
   "metadata": {},
   "outputs": [],
   "source": [
    "# topic:\n",
    "# Scrape all data from this url \"http://quotes.toscrape.com/\"\n",
    "# And dump the scrape data in a csv file.\n",
    "# Column Header will be Quote, Author, Tags.\n",
    "# All the tags will be in one cell and they will be separated by hifen \"-\"\n",
    "from bs4 import BeautifulSoup as soup\n",
    "from urllib.request import urlopen"
   ]
  },
  {
   "cell_type": "code",
   "execution_count": 2,
   "metadata": {},
   "outputs": [],
   "source": [
    "scrape_url = 'http://quotes.toscrape.com/'\n",
    "urlClnt = urlopen(scrape_url)\n",
    "raw_html = urlClnt.read()\n",
    "urlClnt.close()\n",
    "page = soup(raw_html, 'html.parser')"
   ]
  },
  {
   "cell_type": "code",
   "execution_count": 4,
   "metadata": {},
   "outputs": [],
   "source": [
    "#page"
   ]
  },
  {
   "cell_type": "code",
   "execution_count": 5,
   "metadata": {},
   "outputs": [],
   "source": [
    "with open('assignment2_tajim.csv', 'w') as f:\n",
    "    \n",
    "    f.write('Quote, Author, Tags\\n')"
   ]
  },
  {
   "cell_type": "code",
   "execution_count": null,
   "metadata": {},
   "outputs": [],
   "source": []
  }
 ],
 "metadata": {
  "kernelspec": {
   "display_name": "Python 3",
   "language": "python",
   "name": "python3"
  },
  "language_info": {
   "codemirror_mode": {
    "name": "ipython",
    "version": 3
   },
   "file_extension": ".py",
   "mimetype": "text/x-python",
   "name": "python",
   "nbconvert_exporter": "python",
   "pygments_lexer": "ipython3",
   "version": "3.6.4"
  }
 },
 "nbformat": 4,
 "nbformat_minor": 2
}
