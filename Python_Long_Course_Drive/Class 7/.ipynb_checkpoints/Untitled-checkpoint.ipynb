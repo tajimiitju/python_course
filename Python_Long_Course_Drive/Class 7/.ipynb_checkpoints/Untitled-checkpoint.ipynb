{
 "cells": [
  {
   "cell_type": "code",
   "execution_count": 2,
   "metadata": {
    "collapsed": true
   },
   "outputs": [],
   "source": [
    "from bs4 import BeautifulSoup as soup\n",
    "from urllib.request import urlopen"
   ]
  },
  {
   "cell_type": "code",
   "execution_count": 6,
   "metadata": {},
   "outputs": [],
   "source": [
    "scrape_url = 'https://www.newegg.com/Video-Cards-Video-Devices/Category/ID-38?Tpk=graphics%20card'\n",
    "\n",
    "urlClnt = urlopen(scrape_url)\n",
    "raw_html = urlClnt.read()\n",
    "urlClnt.close()\n",
    "page = soup(raw_html, 'html.parser')"
   ]
  },
  {
   "cell_type": "code",
   "execution_count": 18,
   "metadata": {},
   "outputs": [],
   "source": [
    "containers = page.findAll('div', {'class' : 'item-container'})"
   ]
  },
  {
   "cell_type": "code",
   "execution_count": 48,
   "metadata": {},
   "outputs": [],
   "source": [
    "with open('data.csv', 'w') as f:\n",
    "    \n",
    "    f.write('Brand,Price,Title,Rating,Rated_Amount\\n')\n",
    "    \n",
    "    for container in containers:\n",
    "\n",
    "        brand = container.findAll('img', {'class' : 'lazy-img'})[1]['title']\n",
    "\n",
    "        price = container.find('li',{'class' : 'price-current'}).strong.text\n",
    "\n",
    "        title = container.find('a', {'class' : 'item-title'}).text.replace(',','|')\n",
    "\n",
    "        rating = container.find('a',{\"class\" : 'item-rating'})['title'].replace('Rating ', '')\n",
    "\n",
    "        rated_Amount = container.find('a',{\"class\" : 'item-rating'}).text.replace('(', '').replace(')', '')\n",
    "    \n",
    "    \n",
    "        f.write(brand + ',' + price + ',' + title + ',' + rating + ',' + rated_Amount + '\\n')"
   ]
  },
  {
   "cell_type": "code",
   "execution_count": 46,
   "metadata": {},
   "outputs": [
    {
     "data": {
      "text/plain": [
       "'MSI GeForce GTX 1080 DirectX 12 GeForce GTX 1080 DUKE 8G Video Card'"
      ]
     },
     "execution_count": 46,
     "metadata": {},
     "output_type": "execute_result"
    }
   ],
   "source": []
  },
  {
   "cell_type": "code",
   "execution_count": null,
   "metadata": {
    "collapsed": true
   },
   "outputs": [],
   "source": []
  }
 ],
 "metadata": {
  "kernelspec": {
   "display_name": "Python 3",
   "language": "python",
   "name": "python3"
  },
  "language_info": {
   "codemirror_mode": {
    "name": "ipython",
    "version": 3
   },
   "file_extension": ".py",
   "mimetype": "text/x-python",
   "name": "python",
   "nbconvert_exporter": "python",
   "pygments_lexer": "ipython3",
   "version": "3.6.1"
  }
 },
 "nbformat": 4,
 "nbformat_minor": 2
}
