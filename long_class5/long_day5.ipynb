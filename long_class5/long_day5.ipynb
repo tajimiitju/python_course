{
 "cells": [
  {
   "cell_type": "code",
   "execution_count": 1,
   "metadata": {},
   "outputs": [
    {
     "name": "stdout",
     "output_type": "stream",
     "text": [
      "['In', 'Out', '_', '__', '___', '__builtin__', '__builtins__', '__doc__', '__loader__', '__name__', '__package__', '__spec__', '_dh', '_i', '_i1', '_ih', '_ii', '_iii', '_oh', 'exit', 'get_ipython', 'myFunc', 'quit']\n"
     ]
    }
   ],
   "source": [
    "#print(dir())\n",
    "\n",
    "def myFunc():\n",
    "    pass\n",
    "print(dir())"
   ]
  },
  {
   "cell_type": "code",
   "execution_count": 2,
   "metadata": {},
   "outputs": [],
   "source": [
    "myFunc()"
   ]
  },
  {
   "cell_type": "code",
   "execution_count": 3,
   "metadata": {},
   "outputs": [
    {
     "ename": "NameError",
     "evalue": "name 'myFunc1' is not defined",
     "output_type": "error",
     "traceback": [
      "\u001b[1;31m---------------------------------------------------------------------------\u001b[0m",
      "\u001b[1;31mNameError\u001b[0m                                 Traceback (most recent call last)",
      "\u001b[1;32m<ipython-input-3-5db1b766604e>\u001b[0m in \u001b[0;36m<module>\u001b[1;34m()\u001b[0m\n\u001b[1;32m----> 1\u001b[1;33m \u001b[0mmyFunc1\u001b[0m\u001b[1;33m(\u001b[0m\u001b[1;33m)\u001b[0m\u001b[1;33m\u001b[0m\u001b[0m\n\u001b[0m",
      "\u001b[1;31mNameError\u001b[0m: name 'myFunc1' is not defined"
     ]
    }
   ],
   "source": [
    "myFunc1()"
   ]
  },
  {
   "cell_type": "code",
   "execution_count": 4,
   "metadata": {},
   "outputs": [],
   "source": [
    "def myFunc():\n",
    "   print(\"Tajim\")\n"
   ]
  },
  {
   "cell_type": "code",
   "execution_count": 5,
   "metadata": {},
   "outputs": [
    {
     "name": "stdout",
     "output_type": "stream",
     "text": [
      "Tajim\n"
     ]
    }
   ],
   "source": [
    "myFunc()"
   ]
  },
  {
   "cell_type": "code",
   "execution_count": 6,
   "metadata": {},
   "outputs": [],
   "source": [
    "import math\n",
    "def areaTri(vumi, ucchota):\n",
    "    print(.5*vumi*ucchota)"
   ]
  },
  {
   "cell_type": "code",
   "execution_count": 7,
   "metadata": {},
   "outputs": [
    {
     "name": "stdout",
     "output_type": "stream",
     "text": [
      "20.0\n"
     ]
    }
   ],
   "source": [
    "areaTri(5,8)"
   ]
  },
  {
   "cell_type": "code",
   "execution_count": 8,
   "metadata": {},
   "outputs": [
    {
     "ename": "SyntaxError",
     "evalue": "invalid syntax (<ipython-input-8-612ec9c43931>, line 1)",
     "output_type": "error",
     "traceback": [
      "\u001b[1;36m  File \u001b[1;32m\"<ipython-input-8-612ec9c43931>\"\u001b[1;36m, line \u001b[1;32m1\u001b[0m\n\u001b[1;33m    def defArg(x=0)\u001b[0m\n\u001b[1;37m                   ^\u001b[0m\n\u001b[1;31mSyntaxError\u001b[0m\u001b[1;31m:\u001b[0m invalid syntax\n"
     ]
    }
   ],
   "source": [
    "def defArg(x=0)\n",
    "    return x*3\n",
    "print(defArg(x=1))"
   ]
  },
  {
   "cell_type": "code",
   "execution_count": 11,
   "metadata": {},
   "outputs": [
    {
     "name": "stdout",
     "output_type": "stream",
     "text": [
      "9\n"
     ]
    }
   ],
   "source": [
    "def defArg(x=0):\n",
    "    return x*3\n",
    "print(defArg(x=3))"
   ]
  },
  {
   "cell_type": "code",
   "execution_count": 13,
   "metadata": {},
   "outputs": [
    {
     "name": "stdout",
     "output_type": "stream",
     "text": [
      "0\n"
     ]
    }
   ],
   "source": [
    "def defArg(x=0):\n",
    "    return x*3\n",
    "print(defArg())"
   ]
  },
  {
   "cell_type": "code",
   "execution_count": 20,
   "metadata": {},
   "outputs": [],
   "source": [
    "def TriSq(a,b,c,d=0):\n",
    "    if(d==0):\n",
    "        print(\"Triangle Porisima = \",a+b+c)\n",
    "    else:\n",
    "        print(\"Choturvujer Porisima = \",a+b+c+d)"
   ]
  },
  {
   "cell_type": "code",
   "execution_count": 21,
   "metadata": {},
   "outputs": [
    {
     "name": "stdout",
     "output_type": "stream",
     "text": [
      "Triangle Porisima =  18\n"
     ]
    }
   ],
   "source": [
    "TriSq(5,6,7)"
   ]
  },
  {
   "cell_type": "code",
   "execution_count": 22,
   "metadata": {},
   "outputs": [
    {
     "name": "stdout",
     "output_type": "stream",
     "text": [
      "Choturvujer Porisima =  25\n"
     ]
    }
   ],
   "source": [
    "TriSq(5,6,7,7)"
   ]
  },
  {
   "cell_type": "code",
   "execution_count": 26,
   "metadata": {},
   "outputs": [
    {
     "name": "stdout",
     "output_type": "stream",
     "text": [
      "1 2 3 4 5 6 7 8 9 10 9 8 7 6 5 4 3 2 1 "
     ]
    }
   ],
   "source": [
    "# 1_to_10_to_1_by_tajim\n",
    "j=9\n",
    "for i in range(1,20,1):\n",
    "    if(i<11): print(i, end=' ')\n",
    "    else: \n",
    "        print(j, end=' ')\n",
    "        j=j-1"
   ]
  },
  {
   "cell_type": "code",
   "execution_count": 38,
   "metadata": {},
   "outputs": [],
   "source": [
    "#list comprihension\n",
    "# a= [what i want to insert, loop over the collection from where i want the data, condition]\n",
    "a=[];\n",
    "#help(a.append)\n",
    "for i in range(1,101):\n",
    "    a.append(i)"
   ]
  },
  {
   "cell_type": "code",
   "execution_count": 39,
   "metadata": {},
   "outputs": [
    {
     "name": "stdout",
     "output_type": "stream",
     "text": [
      "[1, 2, 3, 4, 5, 6, 7, 8, 9, 10, 11, 12, 13, 14, 15, 16, 17, 18, 19, 20, 21, 22, 23, 24, 25, 26, 27, 28, 29, 30, 31, 32, 33, 34, 35, 36, 37, 38, 39, 40, 41, 42, 43, 44, 45, 46, 47, 48, 49, 50, 51, 52, 53, 54, 55, 56, 57, 58, 59, 60, 61, 62, 63, 64, 65, 66, 67, 68, 69, 70, 71, 72, 73, 74, 75, 76, 77, 78, 79, 80, 81, 82, 83, 84, 85, 86, 87, 88, 89, 90, 91, 92, 93, 94, 95, 96, 97, 98, 99, 100]\n"
     ]
    }
   ],
   "source": [
    "print(a)"
   ]
  },
  {
   "cell_type": "code",
   "execution_count": 40,
   "metadata": {},
   "outputs": [
    {
     "name": "stdout",
     "output_type": "stream",
     "text": [
      "[10, 20, 30, 40, 50, 60, 70, 80, 90, 100]\n"
     ]
    }
   ],
   "source": [
    "b=[];\n",
    "for i in range(10,101,10):\n",
    "    b.append(i)\n",
    "print(b)"
   ]
  },
  {
   "cell_type": "code",
   "execution_count": 43,
   "metadata": {},
   "outputs": [
    {
     "name": "stdout",
     "output_type": "stream",
     "text": [
      "[5, 10, 15, 20, 25, 30, 35, 40, 45, 50, 55, 60, 65, 70, 75, 80, 85, 90, 95, 100]\n"
     ]
    }
   ],
   "source": [
    "b=[];\n",
    "for i in range(1,101):\n",
    "    if(i%5==0):\n",
    "        b.append(i)\n",
    "print(b)"
   ]
  },
  {
   "cell_type": "code",
   "execution_count": 44,
   "metadata": {},
   "outputs": [
    {
     "name": "stdout",
     "output_type": "stream",
     "text": [
      "[2, 4, 6, 8, 10, 12, 14, 16, 18, 20, 22, 24, 26, 28, 30, 32, 34, 36, 38, 40, 42, 44, 46, 48, 50, 52, 54, 56, 58, 60, 62, 64, 66, 68, 70, 72, 74, 76, 78, 80, 82, 84, 86, 88, 90, 92, 94, 96, 98, 100]\n"
     ]
    }
   ],
   "source": [
    "b=[];\n",
    "for i in range(1,101):\n",
    "    if(i%2==0):\n",
    "        b.append(i)\n",
    "print(b)"
   ]
  },
  {
   "cell_type": "code",
   "execution_count": 47,
   "metadata": {},
   "outputs": [],
   "source": [
    "l = [i for i in range(1,101)]"
   ]
  },
  {
   "cell_type": "code",
   "execution_count": 48,
   "metadata": {},
   "outputs": [
    {
     "name": "stdout",
     "output_type": "stream",
     "text": [
      "[1, 2, 3, 4, 5, 6, 7, 8, 9, 10, 11, 12, 13, 14, 15, 16, 17, 18, 19, 20, 21, 22, 23, 24, 25, 26, 27, 28, 29, 30, 31, 32, 33, 34, 35, 36, 37, 38, 39, 40, 41, 42, 43, 44, 45, 46, 47, 48, 49, 50, 51, 52, 53, 54, 55, 56, 57, 58, 59, 60, 61, 62, 63, 64, 65, 66, 67, 68, 69, 70, 71, 72, 73, 74, 75, 76, 77, 78, 79, 80, 81, 82, 83, 84, 85, 86, 87, 88, 89, 90, 91, 92, 93, 94, 95, 96, 97, 98, 99, 100]\n"
     ]
    }
   ],
   "source": [
    "print(l)"
   ]
  },
  {
   "cell_type": "code",
   "execution_count": 51,
   "metadata": {},
   "outputs": [
    {
     "name": "stdout",
     "output_type": "stream",
     "text": [
      "[10, 20, 30, 40, 50, 60, 70, 80, 90, 100]\n"
     ]
    }
   ],
   "source": [
    "l = [i for i in range(1,101) if(i%10==0)]\n",
    "print(l)"
   ]
  },
  {
   "cell_type": "code",
   "execution_count": 52,
   "metadata": {},
   "outputs": [
    {
     "name": "stdout",
     "output_type": "stream",
     "text": [
      "[5, 10, 15, 20, 25, 30, 35, 40, 45, 50, 55, 60, 65, 70, 75, 80, 85, 90, 95, 100]\n"
     ]
    }
   ],
   "source": [
    "l = [i for i in range(1,101) if(i%5==0)]\n",
    "print(l)"
   ]
  },
  {
   "cell_type": "code",
   "execution_count": 60,
   "metadata": {},
   "outputs": [
    {
     "name": "stdout",
     "output_type": "stream",
     "text": [
      "[(1, 'A'), (1, 'B'), (1, 'C'), (2, 'A'), (2, 'B'), (2, 'C'), (3, 'A'), (3, 'B'), (3, 'C')]\n"
     ]
    }
   ],
   "source": [
    "x=[1,2,3]\n",
    "y=['A','B','C']\n",
    "cartesian=[]; #empty list defined\n",
    "for i in range (0,3):\n",
    "    for j in range (0,3):\n",
    "        cartesian.append((x[i],y[j]))\n",
    "print(cartesian)"
   ]
  },
  {
   "cell_type": "code",
   "execution_count": 62,
   "metadata": {},
   "outputs": [
    {
     "name": "stdout",
     "output_type": "stream",
     "text": [
      "[(1, 'A'), (1, 'B'), (1, 'C'), (2, 'A'), (2, 'B'), (2, 'C'), (3, 'A'), (3, 'B'), (3, 'C')]\n"
     ]
    }
   ],
   "source": [
    "x=[1,2,3]\n",
    "y=['A','B','C']\n",
    "cartesian=[]; #empty list defined\n",
    "for i in x:\n",
    "    for j in y:\n",
    "        cartesian.append((i,j))\n",
    "print(cartesian)"
   ]
  },
  {
   "cell_type": "code",
   "execution_count": 63,
   "metadata": {},
   "outputs": [
    {
     "name": "stdout",
     "output_type": "stream",
     "text": [
      "[(1, 'A'), (1, 'B'), (1, 'C'), (1, 'D'), (2, 'A'), (2, 'B'), (2, 'C'), (2, 'D'), (3, 'A'), (3, 'B'), (3, 'C'), (3, 'D')]\n"
     ]
    }
   ],
   "source": [
    "x=[1,2,3]\n",
    "y=['A','B','C','D']\n",
    "cartesian=[]; #empty list defined\n",
    "for i in x:\n",
    "    for j in y:\n",
    "        cartesian.append((i,j))\n",
    "print(cartesian)"
   ]
  },
  {
   "cell_type": "code",
   "execution_count": 76,
   "metadata": {},
   "outputs": [
    {
     "name": "stdout",
     "output_type": "stream",
     "text": [
      "[(1, 'A'), (1, 'B'), (1, 'C'), (2, 'A'), (2, 'B'), (2, 'C'), (3, 'A'), (3, 'B'), (3, 'C')]\n"
     ]
    }
   ],
   "source": [
    "x=[1,2,3]\n",
    "y=['A','B','C']\n",
    "l1 = [(i,j) for i in x for j in y]\n",
    "print(l1)"
   ]
  },
  {
   "cell_type": "code",
   "execution_count": 78,
   "metadata": {},
   "outputs": [
    {
     "name": "stdout",
     "output_type": "stream",
     "text": [
      "[(1, 'A'), (1, 'B'), (1, 'C'), (1, 'D'), (1, 'E'), (2, 'A'), (2, 'B'), (2, 'C'), (2, 'D'), (2, 'E'), (3, 'A'), (3, 'B'), (3, 'C'), (3, 'D'), (3, 'E'), (4, 'A'), (4, 'B'), (4, 'C'), (4, 'D'), (4, 'E')]\n"
     ]
    }
   ],
   "source": [
    "x=[1,2,3,4]\n",
    "y=['A','B','C','D','E']\n",
    "l1 = [(i,j) for i in x for j in y]\n",
    "print(l1)"
   ]
  },
  {
   "cell_type": "code",
   "execution_count": 79,
   "metadata": {},
   "outputs": [
    {
     "name": "stdout",
     "output_type": "stream",
     "text": [
      "12\n"
     ]
    }
   ],
   "source": [
    "#lambda function, has no name\n",
    "l = lambda x : x*3\n",
    "\n",
    "print(l(4))"
   ]
  },
  {
   "cell_type": "code",
   "execution_count": 81,
   "metadata": {},
   "outputs": [
    {
     "name": "stdout",
     "output_type": "stream",
     "text": [
      "(8, 12, 16)\n"
     ]
    }
   ],
   "source": [
    "l = lambda x,y,z : (x*2, y*3, z*4)\n",
    "\n",
    "print(l(4,4,4))"
   ]
  },
  {
   "cell_type": "code",
   "execution_count": 82,
   "metadata": {},
   "outputs": [
    {
     "name": "stdout",
     "output_type": "stream",
     "text": [
      "<function QuadFunc.<locals>.<lambda> at 0x0000021ADA95A488>\n"
     ]
    }
   ],
   "source": [
    "#quadretic function a*x**2 + b*x + c\n",
    "def QuadFunc(a,b,c):\n",
    "    return lambda x: a*x**2 + b*x + c\n",
    "print(QuadFunc(1,2,3))"
   ]
  },
  {
   "cell_type": "code",
   "execution_count": 83,
   "metadata": {},
   "outputs": [
    {
     "name": "stdout",
     "output_type": "stream",
     "text": [
      "6\n"
     ]
    }
   ],
   "source": [
    "#quadretic function a*x**2 + b*x + c\n",
    "def QuadFunc(a,b,c):\n",
    "    return lambda x: a*x**2 + b*x + c\n",
    "lm=QuadFunc(1,2,3)\n",
    "print(lm(1)) #x=1"
   ]
  },
  {
   "cell_type": "code",
   "execution_count": 84,
   "metadata": {},
   "outputs": [
    {
     "data": {
      "text/plain": [
       "6"
      ]
     },
     "execution_count": 84,
     "metadata": {},
     "output_type": "execute_result"
    }
   ],
   "source": [
    "QuadFunc(1,2,3)(1)"
   ]
  },
  {
   "cell_type": "code",
   "execution_count": 85,
   "metadata": {},
   "outputs": [
    {
     "data": {
      "text/plain": [
       "27"
      ]
     },
     "execution_count": 85,
     "metadata": {},
     "output_type": "execute_result"
    }
   ],
   "source": [
    "QuadFunc(1,2,3)(4) #x=4"
   ]
  },
  {
   "cell_type": "code",
   "execution_count": 86,
   "metadata": {},
   "outputs": [],
   "source": [
    "cities_C = [(\"Dhaka\", 32),(\"Rajshahi\", 31),(\"Sylhet\", 30)]"
   ]
  },
  {
   "cell_type": "code",
   "execution_count": 96,
   "metadata": {},
   "outputs": [
    {
     "name": "stdout",
     "output_type": "stream",
     "text": [
      "[('Dhaka', 32), ('Rajshahi', 31), ('Sylhet', 30)]\n"
     ]
    }
   ],
   "source": [
    "cities_F = []\n",
    "cities_F = [(i,j) for (i,j) in cities_C]\n",
    "print(cities_F)"
   ]
  },
  {
   "cell_type": "code",
   "execution_count": 98,
   "metadata": {},
   "outputs": [
    {
     "name": "stdout",
     "output_type": "stream",
     "text": [
      "[('Dhaka', 89.6), ('Rajshahi', 87.80000000000001), ('Sylhet', 86.0)]\n"
     ]
    }
   ],
   "source": [
    "cities_F = []\n",
    "cities_F = [(i,(9/5)*j+32) for (i,j) in cities_C]\n",
    "print(cities_F)"
   ]
  },
  {
   "cell_type": "code",
   "execution_count": 99,
   "metadata": {},
   "outputs": [
    {
     "name": "stdout",
     "output_type": "stream",
     "text": [
      "[('Dhaka', 89.6), ('Rajshahi', 87.80000000000001), ('Sylhet', 86.0)]\n"
     ]
    }
   ],
   "source": [
    "#list comprehension = [Value Loop Condition]\n",
    "#map\n",
    "cities_C1 = [(\"Dhaka\", 32),(\"Rajshahi\", 31),(\"Sylhet\", 30)]\n",
    "cTof = lambda x: (x[0],(9/5)*x[1]+32)\n",
    "cities_F1 = list(map(cTof,cities_C1)) \n",
    "print(cities_F1)"
   ]
  },
  {
   "cell_type": "code",
   "execution_count": 109,
   "metadata": {},
   "outputs": [
    {
     "name": "stdout",
     "output_type": "stream",
     "text": [
      "[('A', 2), ('A', 12), ('A', 30)]\n"
     ]
    }
   ],
   "source": [
    "# question: make output = [('A', 2), ('A', 12), ('A', 30)] from l1\n",
    "l1=[['A',1,2],['A',3,4],['A',5,6]]\n",
    "l2=[(i,j*k) for [i,j,k] in l1]\n",
    "print(l2)"
   ]
  },
  {
   "cell_type": "code",
   "execution_count": 119,
   "metadata": {},
   "outputs": [
    {
     "name": "stdout",
     "output_type": "stream",
     "text": [
      "[('A', 2), ('A', 4), ('A', 6), ('B', 6), ('B', 12), ('B', 18), ('C', 10), ('C', 20), ('C', 30)]\n"
     ]
    }
   ],
   "source": [
    "# give output as \n",
    "# [('A', 2), ('A', 4), ('A', 6), ('B', 6), ('B', 12), ('B', 18), ('C', 10), ('C', 20), ('C', 30)]\n",
    "# from given l3,l4\n",
    "l3 = [['A',1],['B',3],['C',5]]\n",
    "l4 = [['E',2],['F',4],['G',6]]\n",
    "l5=[(i[0],i[1]*j[1]) for i in l3 for j in l4]\n",
    "print(l5)"
   ]
  },
  {
   "cell_type": "code",
   "execution_count": 120,
   "metadata": {},
   "outputs": [
    {
     "name": "stdout",
     "output_type": "stream",
     "text": [
      "[('A', 2), ('A', 4), ('A', 6), ('B', 6), ('B', 12), ('B', 18), ('C', 10), ('C', 20), ('C', 30)]\n"
     ]
    }
   ],
   "source": [
    "#another way\n",
    "l3 = [['A',1],['B',3],['C',5]]\n",
    "l4 = [['E',2],['F',4],['G',6]]\n",
    "l5=[(i,j*l) for [i,j] in l3 for [k,l] in l4]\n",
    "print(l5)"
   ]
  },
  {
   "cell_type": "code",
   "execution_count": 121,
   "metadata": {},
   "outputs": [
    {
     "name": "stdout",
     "output_type": "stream",
     "text": [
      "[('C', 10), ('C', 20), ('C', 30)]\n"
     ]
    }
   ],
   "source": [
    "l3 = [['A',1],['B',3],['C',5]]\n",
    "l4 = [['E',2],['F',4],['G',6]]\n",
    "l5=[(i,j*l) for [i,j] in l3 for [k,l] in l4 if((j*l)%5==0)]\n",
    "print(l5)"
   ]
  },
  {
   "cell_type": "code",
   "execution_count": 130,
   "metadata": {},
   "outputs": [
    {
     "name": "stdout",
     "output_type": "stream",
     "text": [
      "[('A', 20), ('A', 10), ('A', 5), ('C', 20), ('C', 10), ('C', 5)]\n"
     ]
    }
   ],
   "source": [
    "l6 = [['A',5],['B',3],['C',5]]\n",
    "l7 = [['E',4],['F',2],['G',1]]\n",
    "l8 = [(i,j*l) for [i,j] in l6 for [k,l] in l7 if((j*l)%5==0)]\n",
    "print(l8)"
   ]
  },
  {
   "cell_type": "code",
   "execution_count": null,
   "metadata": {},
   "outputs": [],
   "source": []
  }
 ],
 "metadata": {
  "kernelspec": {
   "display_name": "Python 3",
   "language": "python",
   "name": "python3"
  },
  "language_info": {
   "codemirror_mode": {
    "name": "ipython",
    "version": 3
   },
   "file_extension": ".py",
   "mimetype": "text/x-python",
   "name": "python",
   "nbconvert_exporter": "python",
   "pygments_lexer": "ipython3",
   "version": "3.6.4"
  }
 },
 "nbformat": 4,
 "nbformat_minor": 2
}
