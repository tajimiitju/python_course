{
 "cells": [
  {
   "cell_type": "code",
   "execution_count": 1,
   "metadata": {},
   "outputs": [],
   "source": [
    "from bs4 import BeautifulSoup as soup"
   ]
  },
  {
   "cell_type": "code",
   "execution_count": 2,
   "metadata": {},
   "outputs": [],
   "source": [
    "from urllib.request import urlopen"
   ]
  },
  {
   "cell_type": "code",
   "execution_count": 21,
   "metadata": {},
   "outputs": [],
   "source": [
    "scrap_url = 'https://www.newegg.com/Video-Cards-Video-Devices/Category/ID-38?Tpk=graphics%20card'\n",
    "urlClnt = urlopen(scrap_url)\n",
    "raw_html = urlClnt.read()\n",
    "urlClnt.close()"
   ]
  },
  {
   "cell_type": "code",
   "execution_count": 6,
   "metadata": {},
   "outputs": [],
   "source": [
    "#raw_html\n",
    "#print(raw_html)\n",
    "#eta print korale srap data dekhabe raw html"
   ]
  },
  {
   "cell_type": "code",
   "execution_count": 22,
   "metadata": {},
   "outputs": [],
   "source": [
    "page = soup(raw_html, 'html.parser')"
   ]
  },
  {
   "cell_type": "code",
   "execution_count": 9,
   "metadata": {},
   "outputs": [],
   "source": [
    "#page\n",
    "#eta print korale srap data dekhabe real html"
   ]
  },
  {
   "cell_type": "code",
   "execution_count": 23,
   "metadata": {},
   "outputs": [
    {
     "data": {
      "text/plain": [
       "<script src=\"//assets.adobedtm.com/d2f967b83a0c92b19d9b572545fdbdc3d591f6f5/satelliteLib-389760a7bc4573d6b081d36f6782b59f3c8ffb54.js\"></script>"
      ]
     },
     "execution_count": 23,
     "metadata": {},
     "output_type": "execute_result"
    }
   ],
   "source": [
    "page.head.script"
   ]
  },
  {
   "cell_type": "code",
   "execution_count": 24,
   "metadata": {},
   "outputs": [
    {
     "data": {
      "text/plain": [
       "'//assets.adobedtm.com/d2f967b83a0c92b19d9b572545fdbdc3d591f6f5/satelliteLib-389760a7bc4573d6b081d36f6782b59f3c8ffb54.js'"
      ]
     },
     "execution_count": 24,
     "metadata": {},
     "output_type": "execute_result"
    }
   ],
   "source": [
    "page.head.script['src']"
   ]
  },
  {
   "cell_type": "code",
   "execution_count": 25,
   "metadata": {},
   "outputs": [
    {
     "data": {
      "text/plain": [
       "<h1 class=\"page-title-text\">Video Cards &amp; Video Devices</h1>"
      ]
     },
     "execution_count": 25,
     "metadata": {},
     "output_type": "execute_result"
    }
   ],
   "source": [
    "page.h1 #first h1 nie asbe"
   ]
  },
  {
   "cell_type": "code",
   "execution_count": 26,
   "metadata": {},
   "outputs": [
    {
     "data": {
      "text/plain": [
       "'Video Cards & Video Devices'"
      ]
     },
     "execution_count": 26,
     "metadata": {},
     "output_type": "execute_result"
    }
   ],
   "source": [
    "page.h1.text"
   ]
  },
  {
   "cell_type": "code",
   "execution_count": 32,
   "metadata": {},
   "outputs": [],
   "source": [
    "#page.find_all('div')\n",
    "#sob div nie asbe"
   ]
  },
  {
   "cell_type": "code",
   "execution_count": 34,
   "metadata": {},
   "outputs": [],
   "source": [
    "#page.findAll('div')\n",
    "#sob div nie asbe"
   ]
  },
  {
   "cell_type": "code",
   "execution_count": 39,
   "metadata": {},
   "outputs": [],
   "source": [
    "conteiners = page.findAll('div',{'class' : 'item-container'})"
   ]
  },
  {
   "cell_type": "code",
   "execution_count": 41,
   "metadata": {},
   "outputs": [],
   "source": [
    "cont1 = conteiners[0] #conteiner er 1st element ta nilam"
   ]
  },
  {
   "cell_type": "code",
   "execution_count": 42,
   "metadata": {},
   "outputs": [
    {
     "name": "stdout",
     "output_type": "stream",
     "text": [
      "<div class=\"item-container \">\n",
      "<!--product image-->\n",
      "<a class=\"item-img\" href=\"https://www.newegg.com/Product/Product.aspx?Item=N82E16814137307&amp;ignorebbr=1\">\n",
      "<img alt=\"MSI GeForce GTX 1080 DirectX 12 GeForce GTX 1080 DUKE 8G 8GB 256-Bit GDDR5X PCI Express 3.0 x16 HDCP Ready SLI Support Video Card\" class=\" lazy-img\" data-effect=\"fadeIn\" data-src=\"//images10.newegg.com/NeweggImage/ProductImageCompressAll300/14-137-307-V01.jpg\" src=\"//c1.neweggimages.com/WebResource/Themes/2005/Nest/blank.gif\" title=\"MSI GeForce GTX 1080 DirectX 12 GeForce GTX 1080 DUKE 8G 8GB 256-Bit GDDR5X PCI Express 3.0 x16 HDCP Ready SLI Support Video Card\">\n",
      "</img></a>\n",
      "<div class=\"item-info\">\n",
      "<!--brand info-->\n",
      "<div class=\"item-branding\">\n",
      "<a class=\"item-brand\" href=\"https://www.newegg.com/MSI/BrandStore/ID-1312\">\n",
      "<img alt=\"MSI\" class=\" lazy-img\" data-effect=\"fadeIn\" data-src=\"//images10.newegg.com/Brandimage_70x28//Brand1312.gif\" src=\"//c1.neweggimages.com/WebResource/Themes/2005/Nest/blank.gif\" title=\"MSI\">\n",
      "</img></a>\n",
      "<!--rating info-->\n",
      "<a class=\"item-rating\" href=\"https://www.newegg.com/Product/Product.aspx?Item=N82E16814137307&amp;SortField=0&amp;SummaryType=0&amp;PageSize=10&amp;SelectedRating=-1&amp;VideoOnlyMark=False&amp;ignorebbr=1&amp;IsFeedbackTab=true#scrollFullInfo\" title=\"Rating + 5\"><i class=\"rating rating-5\"></i><span class=\"item-rating-num\">(3)</span></a>\n",
      "</div>\n",
      "<!--description info-->\n",
      "<a class=\"item-title\" href=\"https://www.newegg.com/Product/Product.aspx?Item=N82E16814137307&amp;ignorebbr=1\" title=\"View Details\"><i class=\"icon-premier icon-premier-xsm\"></i>MSI GeForce GTX 1080 DirectX 12 GeForce GTX 1080 DUKE 8G Video Card</a>\n",
      "<!--promption info-->\n",
      "<p class=\"item-promo\"><i class=\"item-promo-icon\"></i>Free USD $20 Steam code w/ purchase, limited offer</p>\n",
      "<!--feature-->\n",
      "<ul class=\"item-features\">\n",
      "<li><strong>Core Clock:</strong> 1708 MHz</li><li><strong>Max Resolution:</strong> 7680 x 4320</li><li><strong>DisplayPort:</strong> 3 x DisplayPort 1.4</li><li><strong>DVI:</strong> 1 x DL-DVI-D</li>\n",
      "<li><strong>Model #: </strong>GeForceGTX1080DUKE8G</li>\n",
      "<li><strong>Item #: </strong>N82E16814137307</li>\n",
      "</ul>\n",
      "<div class=\"item-action\">\n",
      "<!--price-->\n",
      "<ul class=\"price has-label-membership \">\n",
      "<li class=\"price-was\">\n",
      "</li>\n",
      "<li class=\"price-map\">\n",
      "</li>\n",
      "<li class=\"price-current\">\n",
      "<span class=\"price-current-label\">\n",
      "<a aria-label=\"Premier Price Explaination\" class=\"membership-info membership-popup\" data-neg-popid=\"MembershipPopup\" href=\"javascript:void(0);\" name=\"membership\" style=\"display: inline\"><span class=\"membership-icon\"></span><span style=\"display: none\">|</span></a>\n",
      "</span>$<strong>579</strong><sup>.99</sup> <a class=\"price-current-num\" href=\"https://www.newegg.com/Product/Product.aspx?Item=N82E16814137307&amp;buyingoptions=New&amp;ignorebbr=1\">(2 Offers)</a>\n",
      "<span class=\"price-current-range\">\n",
      "<abbr title=\"to\">–</abbr>\n",
      "</span>\n",
      "</li>\n",
      "<li class=\"price-save \">\n",
      "<span class=\"price-save-endtime price-save-endtime-current\"><strong>Sale Ends in 2 Days (Sun)</strong></span>\n",
      "<span class=\"price-save-endtime price-save-endtime-another\" style=\"display:none;\"><strong>Sale Ends in 05/20</strong></span>\n",
      "</li>\n",
      "<li class=\"price-note\">\n",
      "<span class=\"price-note-dollar\" data-price=\"$549.99\">$549.99</span>\n",
      "<span class=\"price-note-label \"> after </span>\n",
      "<span class=\"price-note-dollar\">$30.00</span>\n",
      "<span class=\"price-note-label\"> rebate card</span>\n",
      "</li>\n",
      "<li class=\"price-ship\">\r\n",
      "        Free Shipping\r\n",
      "    </li>\n",
      "</ul>\n",
      "<!--egg point-->\n",
      "<!--financing-->\n",
      "<!--button-->\n",
      "<div class=\"item-operate hidden-action-button \">\n",
      "<div class=\"item-button-area\">\n",
      "<button class=\"btn btn-mini \" onclick=\"Javascript:Biz.ProductList.Item.add('https://www.newegg.com/Product/Product.aspx?Item=N82E16814137307&amp;ignorebbr=1');\" title=\"View Details\" type=\"button\">View Details <i class=\"fa fa-caret-right\"></i></button>\n",
      "</div>\n",
      "<!--compare-->\n",
      "<div class=\"item-compare-box\">\n",
      "<label class=\"form-checkbox\">\n",
      "<input aria-labelledby=\"checkbox_compare\" autocomplete=\"off\" id=\"CompareItem_14-137-307\" name=\"CompareItem\" neg-itemnumber=\"14-137-307\" type=\"checkbox\" value=\"CompareItem_14-137-307\"/>\n",
      "<span class=\"form-checkbox-title\">Compare</span>\n",
      "</label>\n",
      "</div>\n",
      "<script type=\"text/javascript\">\r\n",
      "                        Biz.Product.CompareConfig.compareItems.push(\"14-137-307\");\r\n",
      "                        var itemThumbs = new Object();\r\n",
      "                        itemThumbs.itemNumber = \"14-137-307\";\r\n",
      "                        itemThumbs.imageUrl = \"//images10.newegg.com/ProductImageCompressAll35/14-137-307-V01.jpg\";\r\n",
      "                        Biz.Product.CompareConfig.Thumbs.push(itemThumbs);\r\n",
      "                    </script>\n",
      "</div>\n",
      "</div>\n",
      "</div>\n",
      "</div>\n"
     ]
    }
   ],
   "source": [
    "print(cont1)\n",
    "#http://jsbeautifier.org/ e gie ei paoa code k sundor korbi"
   ]
  },
  {
   "cell_type": "code",
   "execution_count": 43,
   "metadata": {},
   "outputs": [
    {
     "data": {
      "text/plain": [
       "<img alt=\"MSI GeForce GTX 1080 DirectX 12 GeForce GTX 1080 DUKE 8G 8GB 256-Bit GDDR5X PCI Express 3.0 x16 HDCP Ready SLI Support Video Card\" class=\" lazy-img\" data-effect=\"fadeIn\" data-src=\"//images10.newegg.com/NeweggImage/ProductImageCompressAll300/14-137-307-V01.jpg\" src=\"//c1.neweggimages.com/WebResource/Themes/2005/Nest/blank.gif\" title=\"MSI GeForce GTX 1080 DirectX 12 GeForce GTX 1080 DUKE 8G 8GB 256-Bit GDDR5X PCI Express 3.0 x16 HDCP Ready SLI Support Video Card\">\n",
       "</img>"
      ]
     },
     "execution_count": 43,
     "metadata": {},
     "output_type": "execute_result"
    }
   ],
   "source": [
    "cont1.img"
   ]
  },
  {
   "cell_type": "code",
   "execution_count": 44,
   "metadata": {},
   "outputs": [
    {
     "data": {
      "text/plain": [
       "<img alt=\"MSI GeForce GTX 1080 DirectX 12 GeForce GTX 1080 DUKE 8G 8GB 256-Bit GDDR5X PCI Express 3.0 x16 HDCP Ready SLI Support Video Card\" class=\" lazy-img\" data-effect=\"fadeIn\" data-src=\"//images10.newegg.com/NeweggImage/ProductImageCompressAll300/14-137-307-V01.jpg\" src=\"//c1.neweggimages.com/WebResource/Themes/2005/Nest/blank.gif\" title=\"MSI GeForce GTX 1080 DirectX 12 GeForce GTX 1080 DUKE 8G 8GB 256-Bit GDDR5X PCI Express 3.0 x16 HDCP Ready SLI Support Video Card\">\n",
       "</img>"
      ]
     },
     "execution_count": 44,
     "metadata": {},
     "output_type": "execute_result"
    }
   ],
   "source": [
    "cont1.find('img') #1st img ta asbe"
   ]
  },
  {
   "cell_type": "code",
   "execution_count": 45,
   "metadata": {},
   "outputs": [
    {
     "data": {
      "text/plain": [
       "[<img alt=\"MSI GeForce GTX 1080 DirectX 12 GeForce GTX 1080 DUKE 8G 8GB 256-Bit GDDR5X PCI Express 3.0 x16 HDCP Ready SLI Support Video Card\" class=\" lazy-img\" data-effect=\"fadeIn\" data-src=\"//images10.newegg.com/NeweggImage/ProductImageCompressAll300/14-137-307-V01.jpg\" src=\"//c1.neweggimages.com/WebResource/Themes/2005/Nest/blank.gif\" title=\"MSI GeForce GTX 1080 DirectX 12 GeForce GTX 1080 DUKE 8G 8GB 256-Bit GDDR5X PCI Express 3.0 x16 HDCP Ready SLI Support Video Card\">\n",
       " </img>,\n",
       " <img alt=\"MSI\" class=\" lazy-img\" data-effect=\"fadeIn\" data-src=\"//images10.newegg.com/Brandimage_70x28//Brand1312.gif\" src=\"//c1.neweggimages.com/WebResource/Themes/2005/Nest/blank.gif\" title=\"MSI\">\n",
       " </img>]"
      ]
     },
     "execution_count": 45,
     "metadata": {},
     "output_type": "execute_result"
    }
   ],
   "source": [
    "cont1.findAll('img',{'class':'lazy-img'})"
   ]
  },
  {
   "cell_type": "code",
   "execution_count": 46,
   "metadata": {},
   "outputs": [
    {
     "data": {
      "text/plain": [
       "<img alt=\"MSI\" class=\" lazy-img\" data-effect=\"fadeIn\" data-src=\"//images10.newegg.com/Brandimage_70x28//Brand1312.gif\" src=\"//c1.neweggimages.com/WebResource/Themes/2005/Nest/blank.gif\" title=\"MSI\">\n",
       "</img>"
      ]
     },
     "execution_count": 46,
     "metadata": {},
     "output_type": "execute_result"
    }
   ],
   "source": [
    "cont1.findAll('img',{'class':'lazy-img'})[1]"
   ]
  },
  {
   "cell_type": "code",
   "execution_count": 48,
   "metadata": {},
   "outputs": [],
   "source": [
    "brand=cont1.findAll('img',{'class':'lazy-img'})[1]['title']"
   ]
  },
  {
   "cell_type": "code",
   "execution_count": 49,
   "metadata": {},
   "outputs": [
    {
     "data": {
      "text/plain": [
       "'MSI'"
      ]
     },
     "execution_count": 49,
     "metadata": {},
     "output_type": "execute_result"
    }
   ],
   "source": [
    "brand"
   ]
  },
  {
   "cell_type": "code",
   "execution_count": 59,
   "metadata": {},
   "outputs": [
    {
     "data": {
      "text/plain": [
       "<li class=\"price-current\">\n",
       "<span class=\"price-current-label\">\n",
       "<a aria-label=\"Premier Price Explaination\" class=\"membership-info membership-popup\" data-neg-popid=\"MembershipPopup\" href=\"javascript:void(0);\" name=\"membership\" style=\"display: inline\"><span class=\"membership-icon\"></span><span style=\"display: none\">|</span></a>\n",
       "</span>$<strong>579</strong><sup>.99</sup> <a class=\"price-current-num\" href=\"https://www.newegg.com/Product/Product.aspx?Item=N82E16814137307&amp;buyingoptions=New&amp;ignorebbr=1\">(2 Offers)</a>\n",
       "<span class=\"price-current-range\">\n",
       "<abbr title=\"to\">–</abbr>\n",
       "</span>\n",
       "</li>"
      ]
     },
     "execution_count": 59,
     "metadata": {},
     "output_type": "execute_result"
    }
   ],
   "source": [
    "cont1 = conteiners[0]\n",
    "brand=cont1.findAll('img',{'class':'lazy-img'})[1]['title']\n",
    "cont1.find('li',{'class':'price-current'})"
   ]
  },
  {
   "cell_type": "code",
   "execution_count": 63,
   "metadata": {},
   "outputs": [
    {
     "data": {
      "text/plain": [
       "<strong>579</strong>"
      ]
     },
     "execution_count": 63,
     "metadata": {},
     "output_type": "execute_result"
    }
   ],
   "source": [
    "cont1 = conteiners[0]\n",
    "brand=cont1.findAll('img',{'class':'lazy-img'})[1]['title']\n",
    "cont1.find('li',{'class':'price-current'}).strong"
   ]
  },
  {
   "cell_type": "code",
   "execution_count": 60,
   "metadata": {},
   "outputs": [
    {
     "data": {
      "text/plain": [
       "'579'"
      ]
     },
     "execution_count": 60,
     "metadata": {},
     "output_type": "execute_result"
    }
   ],
   "source": [
    "cont1 = conteiners[0]\n",
    "brand=cont1.findAll('img',{'class':'lazy-img'})[1]['title']\n",
    "price = cont1.find('li',{'class':'price-current'}).strong.text\n",
    "price"
   ]
  },
  {
   "cell_type": "code",
   "execution_count": 61,
   "metadata": {},
   "outputs": [
    {
     "data": {
      "text/plain": [
       "<a class=\"item-title\" href=\"https://www.newegg.com/Product/Product.aspx?Item=N82E16814137307&amp;ignorebbr=1\" title=\"View Details\"><i class=\"icon-premier icon-premier-xsm\"></i>MSI GeForce GTX 1080 DirectX 12 GeForce GTX 1080 DUKE 8G Video Card</a>"
      ]
     },
     "execution_count": 61,
     "metadata": {},
     "output_type": "execute_result"
    }
   ],
   "source": [
    "cont1.find('a',{'class':'item-title'})"
   ]
  },
  {
   "cell_type": "code",
   "execution_count": 62,
   "metadata": {},
   "outputs": [
    {
     "data": {
      "text/plain": [
       "'MSI GeForce GTX 1080 DirectX 12 GeForce GTX 1080 DUKE 8G Video Card'"
      ]
     },
     "execution_count": 62,
     "metadata": {},
     "output_type": "execute_result"
    }
   ],
   "source": [
    "title = cont1.find('a',{'class':'item-title'}).text\n",
    "title"
   ]
  },
  {
   "cell_type": "code",
   "execution_count": 64,
   "metadata": {},
   "outputs": [
    {
     "data": {
      "text/plain": [
       "<a class=\"item-rating\" href=\"https://www.newegg.com/Product/Product.aspx?Item=N82E16814137307&amp;SortField=0&amp;SummaryType=0&amp;PageSize=10&amp;SelectedRating=-1&amp;VideoOnlyMark=False&amp;ignorebbr=1&amp;IsFeedbackTab=true#scrollFullInfo\" title=\"Rating + 5\"><i class=\"rating rating-5\"></i><span class=\"item-rating-num\">(3)</span></a>"
      ]
     },
     "execution_count": 64,
     "metadata": {},
     "output_type": "execute_result"
    }
   ],
   "source": [
    "cont1.find('a',{'class':'item-rating'})"
   ]
  },
  {
   "cell_type": "code",
   "execution_count": 65,
   "metadata": {},
   "outputs": [
    {
     "data": {
      "text/plain": [
       "'(3)'"
      ]
     },
     "execution_count": 65,
     "metadata": {},
     "output_type": "execute_result"
    }
   ],
   "source": [
    "cont1.find('a',{'class':'item-rating'}).text #kotojon rating dise"
   ]
  },
  {
   "cell_type": "code",
   "execution_count": 66,
   "metadata": {},
   "outputs": [
    {
     "data": {
      "text/plain": [
       "'Rating + 5'"
      ]
     },
     "execution_count": 66,
     "metadata": {},
     "output_type": "execute_result"
    }
   ],
   "source": [
    "cont1.find('a',{'class':'item-rating'})['title']"
   ]
  },
  {
   "cell_type": "code",
   "execution_count": 75,
   "metadata": {},
   "outputs": [
    {
     "data": {
      "text/plain": [
       "'+ 5'"
      ]
     },
     "execution_count": 75,
     "metadata": {},
     "output_type": "execute_result"
    }
   ],
   "source": [
    "Rating = cont1.find('a',{'class':'item-rating'})['title'].replace('Rating ','') #koto rating dise\n",
    "Rating"
   ]
  },
  {
   "cell_type": "code",
   "execution_count": 76,
   "metadata": {},
   "outputs": [
    {
     "data": {
      "text/plain": [
       "'3'"
      ]
     },
     "execution_count": 76,
     "metadata": {},
     "output_type": "execute_result"
    }
   ],
   "source": [
    "Rated_amount = cont1.find('a',{'class':'item-rating'}).text.replace('(','').replace(')','')\n",
    "Rated_amount"
   ]
  },
  {
   "cell_type": "code",
   "execution_count": 84,
   "metadata": {},
   "outputs": [
    {
     "name": "stdout",
     "output_type": "stream",
     "text": [
      "*********************************\n",
      "Brand =  MSI\n",
      "Title =  MSI GeForce GTX 1080 DirectX 12 GeForce GTX 1080 DUKE 8G Video Card\n",
      "Price =  579\n",
      "Rating =  + 5\n",
      "How many people rated =  3\n",
      "*********************************\n",
      "Brand =  GIGABYTE\n",
      "Title =  GIGABYTE Radeon RX 580 DirectX 12 GV-RX580GAMING-8GD Video Card\n",
      "Price =  319\n",
      "Rating =  + 4\n",
      "How many people rated =  23\n",
      "*********************************\n",
      "Brand =  EVGA\n",
      "Title =  EVGA GeForce GTX 1070 Ti GAMING 08G-P4-5678-KR 8GB GDDR5 SC HYBRID & LED\n",
      "Price =  569\n",
      "Rating =  + 5\n",
      "How many people rated =  3\n",
      "*********************************\n",
      "Brand =  MSI\n",
      "Title =  MSI Radeon RX 570 DirectX 12 RX 570 ARMOR MK2 8G OC Video Card\n",
      "Price =  319\n",
      "Rating =  + 5\n",
      "How many people rated =  19\n",
      "*********************************\n",
      "Brand =  Sapphire Tech\n",
      "Title =  Sapphire Radeon NITRO+ RX 580 8GB GDDR5 PCI-E Dual HDMI / DVI-D / Dual DP w/ Backplate SPECIAL EDITION (UEFI), 100411NT+8GSEL\n",
      "Price =  389\n",
      "Rating =  + 4\n",
      "How many people rated =  28\n",
      "*********************************\n",
      "Brand =  EVGA\n",
      "Title =  EVGA GeForce GTX 1050 Ti FTW GAMING ACX 3.0, 04G-P4-6258-KR, 4GB GDDR5, DX12 OSD Support (PXOC)\n",
      "Price =  219\n",
      "Rating =  + 5\n",
      "How many people rated =  265\n",
      "*********************************\n",
      "Brand =  ASUS\n",
      "Title =  ASUS GeForce GTX 1080 TURBO-GTX1080-8G Video Card\n",
      "Price =  569\n",
      "Rating =  + 4\n",
      "How many people rated =  343\n",
      "*********************************\n",
      "Brand =  ASUS\n",
      "Title =  ASUS ROG Radeon RX Vega 64 STRIX-RXVEGA64-O8G-GAMING Video Card\n",
      "Price =  759\n",
      "Rating =  + 4\n",
      "How many people rated =  13\n",
      "*********************************\n",
      "Brand =  GIGABYTE\n",
      "Title =  GIGABYTE GeForce GTX 1060 DirectX 12 GV-N1060WF2OC-3GD Video Card\n",
      "Price =  259\n",
      "Rating =  + 4\n",
      "How many people rated =  444\n",
      "*********************************\n",
      "Brand =  GIGABYTE\n",
      "Title =  GIGABYTE GeForce GTX 1080 Ti DirectX 12 GV-N108TGAMINGOC BLACK-11GD Video Card\n",
      "Price =  849\n",
      "Rating =  + 4\n",
      "How many people rated =  6\n",
      "*********************************\n",
      "Brand =  ZOTAC\n",
      "Title =  ZOTAC GeForce GTX 1080 Mini, ZT-P10800H-10P, 8GB GDDR5X IceStorm Cooling, Dual Fans, 90mm Pressure Optimized Fan, 100mm Maximum Airflow Optimized Fan, Direct GPU Copper Block Contact, Metal Back Plate\n",
      "Price =  549\n",
      "Rating =  + 4\n",
      "How many people rated =  160\n",
      "*********************************\n",
      "Brand =  Sapphire Tech\n",
      "Title =  Sapphire Radeon NITRO+ RX 580 8GB GDDR5 PCI-E Dual HDMI / DVI-D / Dual DP w/ backplate (UEFI), 100411NT+8GL\n",
      "Price =  359\n",
      "Rating =  + 4\n",
      "How many people rated =  42\n"
     ]
    }
   ],
   "source": [
    "for cont1 in conteiners:\n",
    "    title = cont1.find('a',{'class':'item-title'}).text\n",
    "    brand =cont1.findAll('img',{'class':'lazy-img'})[1]['title']\n",
    "    price = cont1.find('li',{'class':'price-current'}).strong.text\n",
    "    Rating = cont1.find('a',{'class':'item-rating'})['title'].replace('Rating ','')\n",
    "    Rated_amount = cont1.find('a',{'class':'item-rating'}).text.replace('(','').replace(')','')\n",
    "    print('*********************************')\n",
    "    print('Brand = ',brand)\n",
    "    print('Title = ',title)\n",
    "    print('Price = ',price)\n",
    "    print('Rating = ',Rating)\n",
    "    print('How many people rated = ',Rated_amount)"
   ]
  },
  {
   "cell_type": "code",
   "execution_count": 101,
   "metadata": {},
   "outputs": [],
   "source": [
    "with open(\"data.csv\", 'w') as f:\n",
    "    f.write('Brand,Title,Price,Rating,Rated_Amount\\n')\n",
    "    for cont1 in conteiners:\n",
    "        title = cont1.find('a',{'class':'item-title'}).text.replace(',','|')\n",
    "        brand =cont1.findAll('img',{'class':'lazy-img'})[1]['title']\n",
    "        price = cont1.find('li',{'class':'price-current'}).strong.text\n",
    "        Rating = cont1.find('a',{'class':'item-rating'})['title'].replace('Rating ','')\n",
    "        Rated_amount = cont1.find('a',{'class':'item-rating'}).text.replace('(','').replace(')','')\n",
    "        f.write(brand+','+title+','+price+','+Rating+','+Rated_amount+'\\n')"
   ]
  },
  {
   "cell_type": "code",
   "execution_count": null,
   "metadata": {},
   "outputs": [],
   "source": []
  }
 ],
 "metadata": {
  "kernelspec": {
   "display_name": "Python 3",
   "language": "python",
   "name": "python3"
  },
  "language_info": {
   "codemirror_mode": {
    "name": "ipython",
    "version": 3
   },
   "file_extension": ".py",
   "mimetype": "text/x-python",
   "name": "python",
   "nbconvert_exporter": "python",
   "pygments_lexer": "ipython3",
   "version": "3.6.4"
  }
 },
 "nbformat": 4,
 "nbformat_minor": 2
}
