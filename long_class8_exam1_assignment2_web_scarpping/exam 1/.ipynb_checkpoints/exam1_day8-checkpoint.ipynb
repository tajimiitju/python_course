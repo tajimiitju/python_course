{
 "cells": [
  {
   "cell_type": "code",
   "execution_count": 4,
   "metadata": {},
   "outputs": [
    {
     "name": "stdout",
     "output_type": "stream",
     "text": [
      "[2002, 2009, 2016, 2023, 2037, 2044, 2051, 2058, 2072, 2079, 2086, 2093, 2107, 2114, 2121, 2128, 2142, 2149, 2156, 2163, 2177, 2184, 2191, 2198, 2212, 2219, 2226, 2233, 2247, 2254, 2261, 2268, 2282, 2289, 2296, 2303, 2317, 2324, 2331, 2338, 2352, 2359, 2366, 2373, 2387, 2394, 2401, 2408, 2422, 2429, 2436, 2443, 2457, 2464, 2471, 2478, 2492, 2499, 2506, 2513, 2527, 2534, 2541, 2548, 2562, 2569, 2576, 2583, 2597, 2604, 2611, 2618, 2632, 2639, 2646, 2653, 2667, 2674, 2681, 2688, 2702, 2709, 2716, 2723, 2737, 2744, 2751, 2758, 2772, 2779, 2786, 2793, 2807, 2814, 2821, 2828, 2842, 2849, 2856, 2863, 2877, 2884, 2891, 2898, 2912, 2919, 2926, 2933, 2947, 2954, 2961, 2968, 2982, 2989, 2996, 3003, 3017, 3024, 3031, 3038, 3052, 3059, 3066, 3073, 3087, 3094, 3101, 3108, 3122, 3129, 3136, 3143, 3157, 3164, 3171, 3178, 3192, 3199]\n"
     ]
    }
   ],
   "source": [
    "#1\n",
    "l = [i for i in range(2000,3201) if((i%7==0) and (i%5!=0))]\n",
    "print(l)"
   ]
  },
  {
   "cell_type": "code",
   "execution_count": 55,
   "metadata": {},
   "outputs": [
    {
     "name": "stdout",
     "output_type": "stream",
     "text": [
      "0,1,2,3,4,-1,-3,-7\n",
      "10\n"
     ]
    }
   ],
   "source": [
    "#2\n",
    "s=0\n",
    "numSt = input()\n",
    "#numSt = \"1,2,3,4,5\"\n",
    "#help(numSt)\n",
    "#dir(str)\n",
    "#help(numSt.split)\n",
    "l = numSt.split(',')\n",
    "l1 = [int(i) for i in l]\n",
    "l1\n",
    "for i in range(0,len(l1)):\n",
    "     if (l1[i]>0):\n",
    "         #print(l1[i])\n",
    "         s=s+l1[i]\n",
    "print(s)"
   ]
  },
  {
   "cell_type": "code",
   "execution_count": 57,
   "metadata": {},
   "outputs": [
    {
     "data": {
      "text/plain": [
       "[2, 4, 6, 8, 10]"
      ]
     },
     "execution_count": 57,
     "metadata": {},
     "output_type": "execute_result"
    }
   ],
   "source": [
    "#8\n",
    "myList = [1,2,3,4,5,6,7,8,9,10]\n",
    "myList1 = list(filter (lambda x : x%2==0, myList))\n",
    "myList1"
   ]
  },
  {
   "cell_type": "code",
   "execution_count": 70,
   "metadata": {},
   "outputs": [
    {
     "name": "stdout",
     "output_type": "stream",
     "text": [
      "Enter a number: 12\n",
      "13  is the next prime number\n"
     ]
    }
   ],
   "source": [
    "#3\n",
    "num = int(input(\"Enter a number: \"))\n",
    "num2=num+1\n",
    "for i in range(2,num2):\n",
    "    if (num2 % i) == 0:\n",
    "        num2=num2+1\n",
    "    else:\n",
    "        print(num2,\" is the next prime number\")\n",
    "        break"
   ]
  },
  {
   "cell_type": "code",
   "execution_count": 62,
   "metadata": {},
   "outputs": [
    {
     "name": "stdout",
     "output_type": "stream",
     "text": [
      "tajim.dgsd@iuyhret\n",
      "tajim.dgsd\n"
     ]
    }
   ],
   "source": [
    "#9\n",
    "mail = input()\n",
    "l = mail.split('@')\n",
    "#l\n",
    "print(l[0])"
   ]
  },
  {
   "cell_type": "code",
   "execution_count": 83,
   "metadata": {},
   "outputs": [
    {
     "name": "stdout",
     "output_type": "stream",
     "text": [
      "Enter a number: 8\n"
     ]
    },
    {
     "data": {
      "text/plain": [
       "{1: 1, 2: 4, 3: 9, 4: 16, 5: 25, 6: 36, 7: 49, 8: 64}"
      ]
     },
     "execution_count": 83,
     "metadata": {},
     "output_type": "execute_result"
    }
   ],
   "source": [
    "#4\n",
    "dic = {}\n",
    "a = int(input(\"Enter a number: \"))\n",
    "for i in range(1,a+1):\n",
    "    dic.update({i:i*i})\n",
    "dic"
   ]
  },
  {
   "cell_type": "code",
   "execution_count": 111,
   "metadata": {},
   "outputs": [
    {
     "name": "stdout",
     "output_type": "stream",
     "text": [
      "zzzz,xxxx,yyyy,ccc,vvvv,bbbb,aaaa,zzz\n",
      "aaaa,bbbb,ccc,vvvv,xxxx,yyyy,zzz,zzzz"
     ]
    }
   ],
   "source": [
    "#5\n",
    "words = input()\n",
    "word=words.split(',')\n",
    "word\n",
    "word.sort(key=lambda x: x.lower())\n",
    "word\n",
    "for i in range(0,len(word)):\n",
    "    if(i<len(word)-1):\n",
    "        print(word[i]+',',end=\"\")\n",
    "    else:\n",
    "        print(word[i],end=\"\")"
   ]
  },
  {
   "cell_type": "code",
   "execution_count": 123,
   "metadata": {},
   "outputs": [
    {
     "name": "stdout",
     "output_type": "stream",
     "text": [
      "Hello world and practice makes perfect and hello world again\n",
      "again and hello makes perfect practice world "
     ]
    }
   ],
   "source": [
    "#6\n",
    "words = input()\n",
    "word=words.split(' ')\n",
    "word\n",
    "word.sort(key=lambda x: x.lower())\n",
    "word\n",
    "for i in range(0,len(word)):\n",
    "    word[i]=word[i].lower()\n",
    "    if(word[i]!=word[i-1]):\n",
    "        print(word[i]+' ',end=\"\")"
   ]
  },
  {
   "cell_type": "code",
   "execution_count": 134,
   "metadata": {},
   "outputs": [
    {
     "name": "stdout",
     "output_type": "stream",
     "text": [
      "Hello world!\n",
      "UPPER CASE  1\n",
      "LOWE CASE  9\n"
     ]
    }
   ],
   "source": [
    "#7\n",
    "words = input()\n",
    "l=0\n",
    "u=0\n",
    "for i in range(0,len(words)):\n",
    "    if(words[i].isupper()):\n",
    "        u=u+1\n",
    "    if(words[i].islower()):\n",
    "        l=l+1\n",
    "print(\"UPPER CASE \",u)\n",
    "print(\"LOWE CASE \",l)"
   ]
  },
  {
   "cell_type": "code",
   "execution_count": 1,
   "metadata": {},
   "outputs": [
    {
     "name": "stdout",
     "output_type": "stream",
     "text": [
      "Enter a number: 5\n",
      "500\n"
     ]
    }
   ],
   "source": [
    "n = int(input(\"Enter a number: \"))\n",
    "def ff(n):\n",
    "    if n > 0:\n",
    "        n -=1\n",
    "        return ff(n)+100\n",
    "    \n",
    "    else:\n",
    "        return 0\n",
    "    \n",
    "print(ff(n))"
   ]
  },
  {
   "cell_type": "code",
   "execution_count": null,
   "metadata": {},
   "outputs": [],
   "source": []
  }
 ],
 "metadata": {
  "kernelspec": {
   "display_name": "Python 3",
   "language": "python",
   "name": "python3"
  },
  "language_info": {
   "codemirror_mode": {
    "name": "ipython",
    "version": 3
   },
   "file_extension": ".py",
   "mimetype": "text/x-python",
   "name": "python",
   "nbconvert_exporter": "python",
   "pygments_lexer": "ipython3",
   "version": "3.6.4"
  }
 },
 "nbformat": 4,
 "nbformat_minor": 2
}
