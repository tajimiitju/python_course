{
 "cells": [
  {
   "cell_type": "code",
   "execution_count": 63,
   "metadata": {},
   "outputs": [],
   "source": [
    "###Assignment 2 by Tajim\n",
    "# topic:\n",
    "# Scrape all data from this url \"http://quotes.toscrape.com/\"\n",
    "# And dump the scrape data in a csv file.\n",
    "# Column Header will be Quote, Author, Tags.\n",
    "# All the tags will be in one cell and they will be separated by hifen \"-\"\n",
    "from bs4 import BeautifulSoup as soup\n",
    "from urllib.request import urlopen\n",
    "scrape_url = 'http://quotes.toscrape.com/'\n",
    "urlClnt = urlopen(scrape_url)\n",
    "raw_html = urlClnt.read()\n",
    "urlClnt.close()\n",
    "page = soup(raw_html, 'html.parser')\n",
    "#page\n",
    "conteiners = page.findAll('div',{'class' : 'quote'})\n",
    "#conteiners \n",
    "cont1 = conteiners[0]\n",
    "#cont1\n",
    "# Quote = cont1.find('span',{'class':'text'}).text\n",
    "# Author= cont1.find('small',{'class':'author'}).text\n",
    "# Tags = cont1.find('div',{'class':'tags'}).text.replace('\\n','-').replace('-            Tags:-            -','')\n",
    "# print(Quote)\n",
    "# print(Author)\n",
    "# print(Tags)\n",
    "\n",
    "with open('assignment2_tajim.csv', 'w') as f:\n",
    "    f.write('Quote, Author, Tags\\n')\n",
    "    for cont1 in conteiners:\n",
    "        Quote = cont1.find('span',{'class':'text'}).text.replace(',','')\n",
    "        Author= cont1.find('small',{'class':'author'}).text\n",
    "        Tags = cont1.find('div',{'class':'tags'}).text.replace('\\n','-').replace('-            Tags:-            -','')\n",
    "#         print(Quote)\n",
    "#         print(Author)\n",
    "#         print(Tags)\n",
    "        f.write(Quote+','+Author+','+Tags+'\\n')"
   ]
  },
  {
   "cell_type": "code",
   "execution_count": 62,
   "metadata": {},
   "outputs": [],
   "source": []
  },
  {
   "cell_type": "code",
   "execution_count": null,
   "metadata": {},
   "outputs": [],
   "source": []
  }
 ],
 "metadata": {
  "kernelspec": {
   "display_name": "Python 3",
   "language": "python",
   "name": "python3"
  },
  "language_info": {
   "codemirror_mode": {
    "name": "ipython",
    "version": 3
   },
   "file_extension": ".py",
   "mimetype": "text/x-python",
   "name": "python",
   "nbconvert_exporter": "python",
   "pygments_lexer": "ipython3",
   "version": "3.6.4"
  }
 },
 "nbformat": 4,
 "nbformat_minor": 2
}
