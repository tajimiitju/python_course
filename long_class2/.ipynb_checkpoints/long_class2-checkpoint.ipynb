{
 "cells": [
  {
   "cell_type": "code",
   "execution_count": 1,
   "metadata": {},
   "outputs": [
    {
     "name": "stdout",
     "output_type": "stream",
     "text": [
      "How tall are you? 7\n",
      "How old are you?\n",
      "7\n",
      "How old are you? 7\n"
     ]
    }
   ],
   "source": [
    "#input\n",
    "height = input('How tall are you? ')\n",
    "\n",
    "print('How old are you?')\n",
    "age = input()\n",
    "print('How old are you?', end=' ')\n",
    "age = input()"
   ]
  },
  {
   "cell_type": "code",
   "execution_count": 2,
   "metadata": {},
   "outputs": [
    {
     "name": "stdout",
     "output_type": "stream",
     "text": [
      "<class 'str'>\n"
     ]
    }
   ],
   "source": [
    "print(type(age))"
   ]
  },
  {
   "cell_type": "code",
   "execution_count": 3,
   "metadata": {},
   "outputs": [
    {
     "data": {
      "text/plain": [
       "str"
      ]
     },
     "execution_count": 3,
     "metadata": {},
     "output_type": "execute_result"
    }
   ],
   "source": [
    "type(age)"
   ]
  },
  {
   "cell_type": "code",
   "execution_count": 1,
   "metadata": {},
   "outputs": [
    {
     "name": "stdout",
     "output_type": "stream",
     "text": [
      "How old are you?\n",
      "7\n"
     ]
    }
   ],
   "source": [
    "print('How old are you?')\n",
    "age = int(input())"
   ]
  },
  {
   "cell_type": "code",
   "execution_count": 2,
   "metadata": {},
   "outputs": [
    {
     "data": {
      "text/plain": [
       "int"
      ]
     },
     "execution_count": 2,
     "metadata": {},
     "output_type": "execute_result"
    }
   ],
   "source": [
    "type(age)"
   ]
  },
  {
   "cell_type": "code",
   "execution_count": 14,
   "metadata": {},
   "outputs": [
    {
     "name": "stdout",
     "output_type": "stream",
     "text": [
      "Enter a number: 7\n",
      "7 is Even? False.\n"
     ]
    }
   ],
   "source": [
    "#format condition\n",
    "number = int(input('Enter a number: '))\n",
    "\n",
    "print(f'{number} is Even? {(number%2)==0}.')"
   ]
  },
  {
   "cell_type": "code",
   "execution_count": 19,
   "metadata": {},
   "outputs": [
    {
     "name": "stdout",
     "output_type": "stream",
     "text": [
      "Enter a number: 7\n",
      "7 is Even? False.\n"
     ]
    }
   ],
   "source": [
    "#format condition\n",
    "number = int(input('Enter a number: '))\n",
    "\n",
    "ff = ((number%2)==0)\n",
    "formattedString = \"{} is Even? {}.\"\n",
    "print(formattedString.format(number,ff))"
   ]
  },
  {
   "cell_type": "code",
   "execution_count": 21,
   "metadata": {},
   "outputs": [
    {
     "name": "stdout",
     "output_type": "stream",
     "text": [
      "Enter a number: 7\n",
      "Odd\n"
     ]
    }
   ],
   "source": [
    "number = int(input('Enter a number: '))\n",
    "\n",
    "if ((number%2)==0):\n",
    "    print('Even')\n",
    "else:\n",
    "     print('Odd')   "
   ]
  },
  {
   "cell_type": "code",
   "execution_count": 4,
   "metadata": {},
   "outputs": [
    {
     "name": "stdout",
     "output_type": "stream",
     "text": [
      "Enter password: 77777777777777777777\n",
      "too long\n"
     ]
    }
   ],
   "source": [
    "ps = input('Enter password: ')\n",
    "\n",
    "if (len(ps)>=6 and len(ps)<=8):\n",
    "    print('good length')\n",
    "elif (len(ps)>8):\n",
    "    print('too long')\n",
    "else:\n",
    "    print('too short')\n"
   ]
  },
  {
   "cell_type": "code",
   "execution_count": 5,
   "metadata": {},
   "outputs": [
    {
     "name": "stdout",
     "output_type": "stream",
     "text": [
      "..........\n"
     ]
    }
   ],
   "source": [
    "#advanced printing\n",
    "print('.' * 10)"
   ]
  },
  {
   "cell_type": "code",
   "execution_count": 6,
   "metadata": {},
   "outputs": [
    {
     "name": "stdout",
     "output_type": "stream",
     "text": [
      "#####\n"
     ]
    }
   ],
   "source": [
    "#advanced printing\n",
    "print('#' * 5)"
   ]
  },
  {
   "cell_type": "code",
   "execution_count": 7,
   "metadata": {},
   "outputs": [
    {
     "name": "stdout",
     "output_type": "stream",
     "text": [
      "Padma\n",
      "Meghna\n",
      "Jamuna\n",
      "Surma\n",
      "Madhumati\n",
      "Rupsha\n",
      "Ariyalkha\n",
      "Brammaputra\n",
      "Shitalakkha\n",
      "Buriganga\n"
     ]
    }
   ],
   "source": [
    "# konop jagay cursor rekhe shift+tab dile sob abouyt chgole asbe\n",
    "#working with Files\n",
    "#bad practise\n",
    "f = open(\"a.txt\", 'r') #return a file object , for read = r. for write = w. for read+write = r+\n",
    "text = f.read()\n",
    "f.close()\n",
    "print(text)"
   ]
  },
  {
   "cell_type": "code",
   "execution_count": 8,
   "metadata": {},
   "outputs": [
    {
     "name": "stdout",
     "output_type": "stream",
     "text": [
      "Padma\n",
      "Meghna\n",
      "Jamuna\n",
      "Surma\n",
      "Madhumati\n",
      "Rupsha\n",
      "Ariyalkha\n",
      "Brammaputra\n",
      "Shitalakkha\n",
      "Buriganga\n"
     ]
    }
   ],
   "source": [
    "#good practise ... with function e close korte hoyna\n",
    "with open(\"a.txt\", 'r') as f:\n",
    "    text = f.read()\n",
    "print(text)\n"
   ]
  },
  {
   "cell_type": "code",
   "execution_count": 11,
   "metadata": {},
   "outputs": [
    {
     "name": "stdout",
     "output_type": "stream",
     "text": [
      "File Not Found !\n"
     ]
    }
   ],
   "source": [
    "try :\n",
    "    with open(\"ww.txt\", 'r') as f:\n",
    "        text = f.read()\n",
    "except FileNotFoundError:\n",
    "    text = \"File Not Found !\"\n",
    "print(text)"
   ]
  },
  {
   "cell_type": "code",
   "execution_count": 12,
   "metadata": {},
   "outputs": [
    {
     "name": "stdout",
     "output_type": "stream",
     "text": [
      "Error to file open !\n"
     ]
    }
   ],
   "source": [
    "try :\n",
    "    with open(\"ww.txt\", 'r') as f:\n",
    "        text = f.read()\n",
    "except : \n",
    "    text = \"Error to file open !\"\n",
    "print(text)"
   ]
  },
  {
   "cell_type": "code",
   "execution_count": 13,
   "metadata": {},
   "outputs": [],
   "source": [
    "with open('Zila.txt','w') as f:\n",
    "    f.write('Dhaka')\n",
    "    f.write('Tangail')"
   ]
  },
  {
   "cell_type": "code",
   "execution_count": 14,
   "metadata": {},
   "outputs": [],
   "source": [
    "with open('Zila2.txt','w') as f:\n",
    "    f.write('Dhaka\\n')\n",
    "    f.write('Tangail')"
   ]
  },
  {
   "cell_type": "code",
   "execution_count": 15,
   "metadata": {},
   "outputs": [],
   "source": [
    "with open('Zila3.txt','w') as f:\n",
    "    print('Dhaka', file = f)\n",
    "    print('Tangail', file = f)"
   ]
  },
  {
   "cell_type": "code",
   "execution_count": 24,
   "metadata": {},
   "outputs": [
    {
     "name": "stdout",
     "output_type": "stream",
     "text": [
      "Enter a letterA\n",
      "Vowel\n"
     ]
    }
   ],
   "source": [
    "c=input('Enter a letter')\n",
    "if (len(c)==1):\n",
    "    if (c=='a' or c=='e' or c=='i' or c=='o' or c=='u' or c=='A' or c=='E' or c=='I' or c=='O' or c=='U'):\n",
    "        print('Vowel')\n",
    "    else:\n",
    "        print('Consonant')\n",
    "else:\n",
    "    print('invalid input')"
   ]
  },
  {
   "cell_type": "code",
   "execution_count": 30,
   "metadata": {},
   "outputs": [
    {
     "name": "stdout",
     "output_type": "stream",
     "text": [
      "Enter a lettera\n",
      "Vowel\n"
     ]
    }
   ],
   "source": [
    "c=input('Enter a letter').lower()\n",
    "if (len(c)==1):\n",
    "    if (c=='a' or c=='e' or c=='i' or c=='o' or c=='u'):\n",
    "        print('Vowel')\n",
    "    else:\n",
    "        print('Consonant')\n",
    "else:\n",
    "    print('invalid input')"
   ]
  },
  {
   "cell_type": "code",
   "execution_count": null,
   "metadata": {},
   "outputs": [],
   "source": [
    "c=input('Enter a letter').lower()\n",
    "if (len(c)==1):\n",
    "    try:\n",
    "        cc=int(c)\n",
    "        print('this is a number')\n",
    "    except:\n",
    "        if (c=='a' or c=='e' or c=='i' or c=='o' or c=='u'):\n",
    "            print('Vowel')\n",
    "        else:\n",
    "            print('Consonant')\n",
    "else:\n",
    "    print('invalid input')"
   ]
  }
 ],
 "metadata": {
  "kernelspec": {
   "display_name": "Python 3",
   "language": "python",
   "name": "python3"
  },
  "language_info": {
   "codemirror_mode": {
    "name": "ipython",
    "version": 3
   },
   "file_extension": ".py",
   "mimetype": "text/x-python",
   "name": "python",
   "nbconvert_exporter": "python",
   "pygments_lexer": "ipython3",
   "version": "3.6.4"
  }
 },
 "nbformat": 4,
 "nbformat_minor": 2
}
