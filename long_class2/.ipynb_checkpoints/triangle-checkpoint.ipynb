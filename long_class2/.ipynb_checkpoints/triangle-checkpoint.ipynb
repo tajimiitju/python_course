{
 "cells": [
  {
   "cell_type": "code",
   "execution_count": 14,
   "metadata": {},
   "outputs": [
    {
     "name": "stdout",
     "output_type": "stream",
     "text": [
      "Enter First Side : 3\n",
      "Enter Second Side : 3\n",
      "Enter Third Side : 3\n",
      "This is a triangle and the triangle is Equilateral = somobahu\n"
     ]
    }
   ],
   "source": [
    "a = int(input('Enter First Side : '))\n",
    "b = int(input('Enter Second Side : '))\n",
    "c = int(input('Enter Third Side : '))\n",
    "\n",
    "if (a+b>c and b+c>a and c+a>b):\n",
    "    print('This is a triangle and the triangle is ', end = '') # , end = ''  ..eta dile auto new line ta print korbena \n",
    "    if(a==b and b==c):\n",
    "        print('Equilateral = somobahu')\n",
    "    elif(a==b or b==c or c==a):\n",
    "        print(' = somodibahu')\n",
    "    else:\n",
    "        print(' = bisomobahu')\n",
    "else:\n",
    "    print('not a triangle')"
   ]
  },
  {
   "cell_type": "code",
   "execution_count": null,
   "metadata": {},
   "outputs": [],
   "source": []
  }
 ],
 "metadata": {
  "kernelspec": {
   "display_name": "Python 3",
   "language": "python",
   "name": "python3"
  },
  "language_info": {
   "codemirror_mode": {
    "name": "ipython",
    "version": 3
   },
   "file_extension": ".py",
   "mimetype": "text/x-python",
   "name": "python",
   "nbconvert_exporter": "python",
   "pygments_lexer": "ipython3",
   "version": "3.6.4"
  }
 },
 "nbformat": 4,
 "nbformat_minor": 2
}
