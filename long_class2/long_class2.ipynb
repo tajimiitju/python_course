{
 "cells": [
  {
   "cell_type": "code",
   "execution_count": 1,
   "metadata": {},
   "outputs": [
    {
     "name": "stdout",
     "output_type": "stream",
     "text": [
      "How tall are you? 7\n",
      "How old are you?\n",
      "7\n",
      "How old are you? 7\n"
     ]
    }
   ],
   "source": [
    "#input\n",
    "height = input('How tall are you? ')\n",
    "\n",
    "print('How old are you?')\n",
    "age = input()\n",
    "print('How old are you?', end=' ')\n",
    "age = input()"
   ]
  },
  {
   "cell_type": "code",
   "execution_count": 2,
   "metadata": {},
   "outputs": [
    {
     "name": "stdout",
     "output_type": "stream",
     "text": [
      "<class 'str'>\n"
     ]
    }
   ],
   "source": [
    "print(type(age))"
   ]
  },
  {
   "cell_type": "code",
   "execution_count": 3,
   "metadata": {},
   "outputs": [
    {
     "data": {
      "text/plain": [
       "str"
      ]
     },
     "execution_count": 3,
     "metadata": {},
     "output_type": "execute_result"
    }
   ],
   "source": [
    "type(age)"
   ]
  },
  {
   "cell_type": "code",
   "execution_count": 1,
   "metadata": {},
   "outputs": [
    {
     "name": "stdout",
     "output_type": "stream",
     "text": [
      "How old are you?\n",
      "7\n"
     ]
    }
   ],
   "source": [
    "print('How old are you?')\n",
    "age = int(input())"
   ]
  },
  {
   "cell_type": "code",
   "execution_count": 2,
   "metadata": {},
   "outputs": [
    {
     "data": {
      "text/plain": [
       "int"
      ]
     },
     "execution_count": 2,
     "metadata": {},
     "output_type": "execute_result"
    }
   ],
   "source": [
    "type(age)"
   ]
  },
  {
   "cell_type": "code",
   "execution_count": 14,
   "metadata": {},
   "outputs": [
    {
     "name": "stdout",
     "output_type": "stream",
     "text": [
      "Enter a number: 7\n",
      "7 is Even? False.\n"
     ]
    }
   ],
   "source": [
    "#format condition\n",
    "number = int(input('Enter a number: '))\n",
    "\n",
    "print(f'{number} is Even? {(number%2)==0}.')"
   ]
  },
  {
   "cell_type": "code",
   "execution_count": 19,
   "metadata": {},
   "outputs": [
    {
     "name": "stdout",
     "output_type": "stream",
     "text": [
      "Enter a number: 7\n",
      "7 is Even? False.\n"
     ]
    }
   ],
   "source": [
    "#format condition\n",
    "number = int(input('Enter a number: '))\n",
    "\n",
    "ff = ((number%2)==0)\n",
    "formattedString = \"{} is Even? {}.\"\n",
    "print(formattedString.format(number,ff))"
   ]
  },
  {
   "cell_type": "code",
   "execution_count": 21,
   "metadata": {},
   "outputs": [
    {
     "name": "stdout",
     "output_type": "stream",
     "text": [
      "Enter a number: 7\n",
      "Odd\n"
     ]
    }
   ],
   "source": [
    "number = int(input('Enter a number: '))\n",
    "\n",
    "if ((number%2)==0):\n",
    "    print('Even')\n",
    "else:\n",
    "     print('Odd')   "
   ]
  },
  {
   "cell_type": "code",
   "execution_count": 4,
   "metadata": {},
   "outputs": [
    {
     "name": "stdout",
     "output_type": "stream",
     "text": [
      "Enter password: 77777777777777777777\n",
      "too long\n"
     ]
    }
   ],
   "source": [
    "ps = input('Enter password: ')\n",
    "\n",
    "if (len(ps)>=6 and len(ps)<=8):\n",
    "    print('good length')\n",
    "elif (len(ps)>8):\n",
    "    print('too long')\n",
    "else:\n",
    "    print('too short')\n"
   ]
  },
  {
   "cell_type": "code",
   "execution_count": 5,
   "metadata": {},
   "outputs": [
    {
     "name": "stdout",
     "output_type": "stream",
     "text": [
      "..........\n"
     ]
    }
   ],
   "source": [
    "#advanced printing\n",
    "print('.' * 10)"
   ]
  },
  {
   "cell_type": "code",
   "execution_count": 6,
   "metadata": {},
   "outputs": [
    {
     "name": "stdout",
     "output_type": "stream",
     "text": [
      "#####\n"
     ]
    }
   ],
   "source": [
    "#advanced printing\n",
    "print('#' * 5)"
   ]
  },
  {
   "cell_type": "code",
   "execution_count": null,
   "metadata": {},
   "outputs": [],
   "source": [
    "#working with Files\n",
    "#bad practise\n",
    "f = open(\"a.txt\", 'r') #return a file object , for read = r. for write = w. for read+write = r+\n",
    "text = f.read()\n",
    "f.close()\n"
   ]
  }
 ],
 "metadata": {
  "kernelspec": {
   "display_name": "Python 3",
   "language": "python",
   "name": "python3"
  },
  "language_info": {
   "codemirror_mode": {
    "name": "ipython",
    "version": 3
   },
   "file_extension": ".py",
   "mimetype": "text/x-python",
   "name": "python",
   "nbconvert_exporter": "python",
   "pygments_lexer": "ipython3",
   "version": "3.6.4"
  }
 },
 "nbformat": 4,
 "nbformat_minor": 2
}
