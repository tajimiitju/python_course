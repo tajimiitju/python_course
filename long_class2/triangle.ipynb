{
 "cells": [
  {
   "cell_type": "code",
   "execution_count": 24,
   "metadata": {},
   "outputs": [
    {
     "name": "stdout",
     "output_type": "stream",
     "text": [
      "Enter First Side : 4\n",
      "Enter Second Side : 5\n",
      "Enter Third Side : 6\n",
      "This is a triangle and the triangle is  = bisomobahu\n"
     ]
    }
   ],
   "source": [
    "a = int(input('Enter First Side : '))\n",
    "b = int(input('Enter Second Side : '))\n",
    "c = int(input('Enter Third Side : '))\n",
    "with open('triangle.txt','w') as f:\n",
    "    if (a+b>c and b+c>a and c+a>b):\n",
    "        print('This is a triangle and the triangle is ', end = '') # , end = ''  ..eta dile auto new line ta print korbena \n",
    "        f.write('This is a triangle and the triangle is ')\n",
    "        if(a==b and b==c):\n",
    "            print('Equilateral = somobahu.')\n",
    "            f.write('Equilateral.')\n",
    "        elif(a==b or b==c or c==a):\n",
    "            print(' = somodibahu')\n",
    "            f.write('Somodibahu.')\n",
    "        else:\n",
    "            print(' = bisomobahu')\n",
    "            f.write('Bisomobahu.')\n",
    "    else:\n",
    "        print('not a triangle')\n",
    "        f.write('not a triangle.')"
   ]
  },
  {
   "cell_type": "code",
   "execution_count": null,
   "metadata": {},
   "outputs": [],
   "source": []
  }
 ],
 "metadata": {
  "kernelspec": {
   "display_name": "Python 3",
   "language": "python",
   "name": "python3"
  },
  "language_info": {
   "codemirror_mode": {
    "name": "ipython",
    "version": 3
   },
   "file_extension": ".py",
   "mimetype": "text/x-python",
   "name": "python",
   "nbconvert_exporter": "python",
   "pygments_lexer": "ipython3",
   "version": "3.6.4"
  }
 },
 "nbformat": 4,
 "nbformat_minor": 2
}
