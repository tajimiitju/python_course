{
 "cells": [
  {
   "cell_type": "code",
   "execution_count": 1,
   "metadata": {},
   "outputs": [
    {
     "data": {
      "text/plain": [
       "['ajaj', 'dhdh', 'jayamnata']"
      ]
     },
     "execution_count": 1,
     "metadata": {},
     "output_type": "execute_result"
    }
   ],
   "source": [
    "'ajaj dhdh jayamnata'.split(\" \")"
   ]
  },
  {
   "cell_type": "code",
   "execution_count": 2,
   "metadata": {},
   "outputs": [
    {
     "data": {
      "text/plain": [
       "['a', 'a', ' dhdh ', 'ayamnata']"
      ]
     },
     "execution_count": 2,
     "metadata": {},
     "output_type": "execute_result"
    }
   ],
   "source": [
    "'ajaj dhdh jayamnata'.split(\"j\")"
   ]
  },
  {
   "cell_type": "code",
   "execution_count": 3,
   "metadata": {},
   "outputs": [],
   "source": [
    "#list er index [-1] dile last element paoa jay\n",
    "names=[\"Mahmudullah Riyad\",\"Sakib Al Hasan\",\"Mushfiqur Rahim\",\"Tamim Iqbal\"]\n",
    "names.sort(key=lambda x: x.split(\" \")[-1].lower())\n",
    "#laster index mane laster word onujayi sort hobe"
   ]
  },
  {
   "cell_type": "code",
   "execution_count": 4,
   "metadata": {},
   "outputs": [
    {
     "data": {
      "text/plain": [
       "['Sakib Al Hasan', 'Tamim Iqbal', 'Mushfiqur Rahim', 'Mahmudullah Riyad']"
      ]
     },
     "execution_count": 4,
     "metadata": {},
     "output_type": "execute_result"
    }
   ],
   "source": [
    "names"
   ]
  },
  {
   "cell_type": "code",
   "execution_count": 5,
   "metadata": {},
   "outputs": [
    {
     "data": {
      "text/plain": [
       "['Mahmudullah Riyad', 'Mushfiqur Rahim', 'Sakib Al Hasan', 'Tamim Iqbal']"
      ]
     },
     "execution_count": 5,
     "metadata": {},
     "output_type": "execute_result"
    }
   ],
   "source": [
    "names.sort(key=lambda x: x.split(\" \")[0].lower())\n",
    "# 0 index ba firster ta onujayi sort hobe\n",
    "names"
   ]
  },
  {
   "cell_type": "code",
   "execution_count": 6,
   "metadata": {},
   "outputs": [
    {
     "name": "stdout",
     "output_type": "stream",
     "text": [
      "10\n"
     ]
    }
   ],
   "source": [
    "\n",
    "l = lambda a,b: a*b\n",
    "\n",
    "print(l(5,2))"
   ]
  },
  {
   "cell_type": "code",
   "execution_count": 17,
   "metadata": {},
   "outputs": [
    {
     "name": "stdout",
     "output_type": "stream",
     "text": [
      "small\n",
      "small\n",
      "big\n"
     ]
    }
   ],
   "source": [
    "l = lambda a,b: 'big' if (a*b)>10 else 'small' \n",
    "\n",
    "print(l(5,2))\n",
    "print(l(2,2))\n",
    "print(l(10,2))"
   ]
  },
  {
   "cell_type": "code",
   "execution_count": 16,
   "metadata": {},
   "outputs": [
    {
     "name": "stdout",
     "output_type": "stream",
     "text": [
      "big\n",
      "big\n",
      "small\n"
     ]
    }
   ],
   "source": [
    "l = lambda a,b: print('big' if (a*b)>10 else 'small')\n",
    "l(10,2)\n",
    "l(5,5)\n",
    "l(4,2)"
   ]
  },
  {
   "cell_type": "code",
   "execution_count": 27,
   "metadata": {},
   "outputs": [],
   "source": [
    "def f2(a,b,c):\n",
    "    return lambda x,y: a*x+b*y+c"
   ]
  },
  {
   "cell_type": "code",
   "execution_count": 31,
   "metadata": {},
   "outputs": [
    {
     "data": {
      "text/plain": [
       "<function __main__.f2.<locals>.<lambda>>"
      ]
     },
     "execution_count": 31,
     "metadata": {},
     "output_type": "execute_result"
    }
   ],
   "source": [
    "f2(1,2,3)"
   ]
  },
  {
   "cell_type": "code",
   "execution_count": 32,
   "metadata": {},
   "outputs": [
    {
     "data": {
      "text/plain": [
       "17"
      ]
     },
     "execution_count": 32,
     "metadata": {},
     "output_type": "execute_result"
    }
   ],
   "source": [
    "f2(1,2,3)(4,5)"
   ]
  },
  {
   "cell_type": "code",
   "execution_count": 38,
   "metadata": {},
   "outputs": [
    {
     "data": {
      "text/plain": [
       "[1, 4, 9, 16, 25, 36, 49]"
      ]
     },
     "execution_count": 38,
     "metadata": {},
     "output_type": "execute_result"
    }
   ],
   "source": [
    "a=[1,2,3,4,5,6,7]\n",
    "def sqr(x):\n",
    "    return x**2\n",
    "b=list(map(sqr,a))\n",
    "b"
   ]
  },
  {
   "cell_type": "code",
   "execution_count": 42,
   "metadata": {},
   "outputs": [
    {
     "data": {
      "text/plain": [
       "[1, 4, 9, 16, 25, 36, 49]"
      ]
     },
     "execution_count": 42,
     "metadata": {},
     "output_type": "execute_result"
    }
   ],
   "source": [
    "a=[1,2,3,4,5,6,7]\n",
    "\n",
    "b=list(map(lambda x: x**2,a))\n",
    "b"
   ]
  },
  {
   "cell_type": "code",
   "execution_count": 67,
   "metadata": {},
   "outputs": [
    {
     "name": "stdout",
     "output_type": "stream",
     "text": [
      "[('Dhaka', 89.6), ('Rajshahi', 87.80000000000001), ('Sylhet', 86.0)]\n"
     ]
    }
   ],
   "source": [
    "#list comprehension = [Value Loop Condition]\n",
    "#map\n",
    "cities_C1 = [(\"Dhaka\", 32),(\"Rajshahi\", 31),(\"Sylhet\", 30)]\n",
    "cTof = lambda x: (x[0],(9/5)*x[1]+32)\n",
    "cities_F1 = list(map(cTof,cities_C1)) \n",
    "print(cities_F1)"
   ]
  },
  {
   "cell_type": "code",
   "execution_count": 52,
   "metadata": {},
   "outputs": [
    {
     "data": {
      "text/plain": [
       "32"
      ]
     },
     "execution_count": 52,
     "metadata": {},
     "output_type": "execute_result"
    }
   ],
   "source": [
    "city_c = [(\"Dhaka\",32),(\"Rajshahi\",33),(\"Sylhet\",34)]\n",
    "#f = 9/5*c+32\n",
    "def farenhite(a):\n",
    "    return a[1]\n",
    "farenhite(city_c[0])"
   ]
  },
  {
   "cell_type": "code",
   "execution_count": 65,
   "metadata": {},
   "outputs": [
    {
     "data": {
      "text/plain": [
       "[32, 33, 34]"
      ]
     },
     "execution_count": 65,
     "metadata": {},
     "output_type": "execute_result"
    }
   ],
   "source": [
    "city_c = [(\"Dhaka\",32),(\"Rajshahi\",33),(\"Sylhet\",34)]\n",
    "#f = 9/5*c+35\n",
    "def farenhite(a):\n",
    "    return a[1]\n",
    "city_f=list(map(farenhite,city_c))\n",
    "city_f"
   ]
  },
  {
   "cell_type": "code",
   "execution_count": 66,
   "metadata": {},
   "outputs": [
    {
     "data": {
      "text/plain": [
       "[89.6, 91.4, 93.2]"
      ]
     },
     "execution_count": 66,
     "metadata": {},
     "output_type": "execute_result"
    }
   ],
   "source": [
    "city_c = [(\"Dhaka\",32),(\"Rajshahi\",33),(\"Sylhet\",34)]\n",
    "#f = 9/5*c+35\n",
    "def farenhite(a):\n",
    "    return a[1]*9/5+32\n",
    "city_f=list(map(farenhite,city_c))\n",
    "city_f"
   ]
  },
  {
   "cell_type": "code",
   "execution_count": 63,
   "metadata": {},
   "outputs": [
    {
     "data": {
      "text/plain": [
       "[('Dhaka', 89.6), ('Rajshahi', 91.4), ('Sylhet', 93.2)]"
      ]
     },
     "execution_count": 63,
     "metadata": {},
     "output_type": "execute_result"
    }
   ],
   "source": [
    "city_c = [(\"Dhaka\",32),(\"Rajshahi\",33),(\"Sylhet\",34)]\n",
    "#f = 9/5*c+35\n",
    "def farenhite(a):\n",
    "    return (a[0],a[1]*9/5+32)\n",
    "city_f=list(map(farenhite,city_c))\n",
    "city_f"
   ]
  },
  {
   "cell_type": "code",
   "execution_count": 68,
   "metadata": {},
   "outputs": [
    {
     "data": {
      "text/plain": [
       "[('Dhaka', 89.6), ('Rajshahi', 91.4), ('Sylhet', 93.2)]"
      ]
     },
     "execution_count": 68,
     "metadata": {},
     "output_type": "execute_result"
    }
   ],
   "source": [
    "city_c = [(\"Dhaka\",32),(\"Rajshahi\",33),(\"Sylhet\",34)]\n",
    "#f = 9/5*c+35\n",
    "city_f=list(map(lambda x: (x[0],(9/5)*x[1]+32),city_c))\n",
    "city_f"
   ]
  },
  {
   "cell_type": "code",
   "execution_count": null,
   "metadata": {},
   "outputs": [],
   "source": []
  }
 ],
 "metadata": {
  "kernelspec": {
   "display_name": "Python 3",
   "language": "python",
   "name": "python3"
  },
  "language_info": {
   "codemirror_mode": {
    "name": "ipython",
    "version": 3
   },
   "file_extension": ".py",
   "mimetype": "text/x-python",
   "name": "python",
   "nbconvert_exporter": "python",
   "pygments_lexer": "ipython3",
   "version": "3.6.4"
  }
 },
 "nbformat": 4,
 "nbformat_minor": 2
}
