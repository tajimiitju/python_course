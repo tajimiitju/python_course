{
 "cells": [
  {
   "cell_type": "markdown",
   "metadata": {},
   "source": [
    "### Devskill Python Long course class 1 - 20-4-18"
   ]
  },
  {
   "cell_type": "code",
   "execution_count": 6,
   "metadata": {},
   "outputs": [
    {
     "name": "stdout",
     "output_type": "stream",
     "text": [
      "Hello World!\n"
     ]
    }
   ],
   "source": [
    "# comment\n",
    "# koek line eksathe select kore cntrl+/ die multi line cmnt hoy\n",
    "\n",
    "'''\n",
    "etake function doc bole bt\n",
    "eta dieo multi line cmnt kora jay\n",
    "'''\n",
    "\n",
    "print('Hello World!')"
   ]
  },
  {
   "cell_type": "code",
   "execution_count": 3,
   "metadata": {},
   "outputs": [
    {
     "name": "stdout",
     "output_type": "stream",
     "text": [
      "Hello # World!\n"
     ]
    }
   ],
   "source": [
    "print('Hello # World!')"
   ]
  },
  {
   "cell_type": "code",
   "execution_count": 7,
   "metadata": {},
   "outputs": [],
   "source": [
    "v1, v2 = 'jayanta','sarker'\n",
    "a,b,c = 1,True,\"jayanta\""
   ]
  },
  {
   "cell_type": "code",
   "execution_count": 8,
   "metadata": {},
   "outputs": [],
   "source": [
    "a,b = 4,6"
   ]
  },
  {
   "cell_type": "code",
   "execution_count": 10,
   "metadata": {},
   "outputs": [
    {
     "name": "stdout",
     "output_type": "stream",
     "text": [
      "Sum is = 10\n"
     ]
    }
   ],
   "source": [
    "c=a+b\n",
    "print('Sum is =',c)"
   ]
  },
  {
   "cell_type": "code",
   "execution_count": 16,
   "metadata": {},
   "outputs": [
    {
     "name": "stdout",
     "output_type": "stream",
     "text": [
      "my name is tajim\n"
     ]
    }
   ],
   "source": [
    "d='my name is'\n",
    "e=' tajim'\n",
    "print(d+e)"
   ]
  },
  {
   "cell_type": "code",
   "execution_count": 17,
   "metadata": {},
   "outputs": [
    {
     "name": "stdout",
     "output_type": "stream",
     "text": [
      "my name is  tajim\n"
     ]
    }
   ],
   "source": [
    "#koma dile auto koma ney\n",
    "print(d,e)"
   ]
  },
  {
   "cell_type": "code",
   "execution_count": 18,
   "metadata": {},
   "outputs": [
    {
     "name": "stdout",
     "output_type": "stream",
     "text": [
      "<class 'int'>\n",
      "<class 'float'>\n"
     ]
    }
   ],
   "source": [
    "a,b=1,1.5\n",
    "print(type(a))\n",
    "print(type(b))"
   ]
  },
  {
   "cell_type": "code",
   "execution_count": 19,
   "metadata": {},
   "outputs": [
    {
     "data": {
      "text/plain": [
       "list"
      ]
     },
     "execution_count": 19,
     "metadata": {},
     "output_type": "execute_result"
    }
   ],
   "source": [
    "type([1,2,3,4])"
   ]
  },
  {
   "cell_type": "code",
   "execution_count": 20,
   "metadata": {},
   "outputs": [
    {
     "data": {
      "text/plain": [
       "set"
      ]
     },
     "execution_count": 20,
     "metadata": {},
     "output_type": "execute_result"
    }
   ],
   "source": [
    "type({1,2,3,4})"
   ]
  },
  {
   "cell_type": "code",
   "execution_count": 21,
   "metadata": {},
   "outputs": [
    {
     "name": "stdout",
     "output_type": "stream",
     "text": [
      "<class 'complex'>\n"
     ]
    }
   ],
   "source": [
    "c=(2+5.1j)\n",
    "print(type(c))"
   ]
  },
  {
   "cell_type": "code",
   "execution_count": 22,
   "metadata": {},
   "outputs": [
    {
     "name": "stdout",
     "output_type": "stream",
     "text": [
      "2.0\n"
     ]
    }
   ],
   "source": [
    "print(c.real)"
   ]
  },
  {
   "cell_type": "code",
   "execution_count": 23,
   "metadata": {},
   "outputs": [
    {
     "name": "stdout",
     "output_type": "stream",
     "text": [
      "5.1\n"
     ]
    }
   ],
   "source": [
    "print(c.imag)"
   ]
  },
  {
   "cell_type": "code",
   "execution_count": 27,
   "metadata": {},
   "outputs": [
    {
     "data": {
      "text/plain": [
       "125"
      ]
     },
     "execution_count": 27,
     "metadata": {},
     "output_type": "execute_result"
    }
   ],
   "source": [
    "5**3 # 5^3 = 5*5*5 , exponential"
   ]
  },
  {
   "cell_type": "code",
   "execution_count": 28,
   "metadata": {},
   "outputs": [
    {
     "data": {
      "text/plain": [
       "False"
      ]
     },
     "execution_count": 28,
     "metadata": {},
     "output_type": "execute_result"
    }
   ],
   "source": [
    "5>5"
   ]
  },
  {
   "cell_type": "code",
   "execution_count": 29,
   "metadata": {},
   "outputs": [
    {
     "data": {
      "text/plain": [
       "True"
      ]
     },
     "execution_count": 29,
     "metadata": {},
     "output_type": "execute_result"
    }
   ],
   "source": [
    "5>=5"
   ]
  },
  {
   "cell_type": "code",
   "execution_count": 31,
   "metadata": {},
   "outputs": [
    {
     "name": "stdout",
     "output_type": "stream",
     "text": [
      "2\n",
      "2.0\n",
      "(25.9+0j)\n",
      "What is 3 + 2? 5\n",
      "What is 5 - 7? -2\n",
      "What is 3 * 2? 6\n",
      "What is 5 / 7? 0.7142857142857143\n",
      "What is 7 % 2? 1\n",
      "Is it greater? True\n",
      "Is it less? False\n",
      "Is it greater or equal? True\n",
      "Is it less or equal? False\n"
     ]
    }
   ],
   "source": [
    "\n",
    "# Int to Float\n",
    "\n",
    "b = 2\n",
    "print(b)\n",
    "\n",
    "b = float(2)\n",
    "print(b)\n",
    "\n",
    "# Float to complex\n",
    "c = complex(25.9)\n",
    "print(c)\n",
    "\n",
    "\n",
    "print('What is 3 + 2?', 3 + 2)\n",
    "print('What is 5 - 7?', 5 - 7)\n",
    "\n",
    "print('What is 3 * 2?', 3 * 2)\n",
    "print('What is 5 / 7?', 5 / 7)  # Division will always be resulted in float.\n",
    "print('What is 7 % 2?', 7 % 2)\n",
    "\n",
    "print('Is it greater?', 5 > -2)\n",
    "print('Is it less?', 5 < -2)\n",
    "print('Is it greater or equal?', 5 >= -2)\n",
    "print('Is it less or equal?', 5 <= -2)"
   ]
  },
  {
   "cell_type": "code",
   "execution_count": 32,
   "metadata": {},
   "outputs": [
    {
     "data": {
      "text/plain": [
       "True"
      ]
     },
     "execution_count": 32,
     "metadata": {},
     "output_type": "execute_result"
    }
   ],
   "source": [
    "a=8\n",
    "b=3\n",
    "a>b"
   ]
  },
  {
   "cell_type": "code",
   "execution_count": 33,
   "metadata": {},
   "outputs": [],
   "source": [
    "c=33\n",
    "d=44"
   ]
  },
  {
   "cell_type": "code",
   "execution_count": 34,
   "metadata": {},
   "outputs": [
    {
     "data": {
      "text/plain": [
       "False"
      ]
     },
     "execution_count": 34,
     "metadata": {},
     "output_type": "execute_result"
    }
   ],
   "source": [
    "(a%b)>(d%c)"
   ]
  },
  {
   "cell_type": "code",
   "execution_count": 36,
   "metadata": {},
   "outputs": [
    {
     "data": {
      "text/plain": [
       "11"
      ]
     },
     "execution_count": 36,
     "metadata": {},
     "output_type": "execute_result"
    }
   ],
   "source": [
    "d%c"
   ]
  },
  {
   "cell_type": "code",
   "execution_count": 37,
   "metadata": {},
   "outputs": [
    {
     "data": {
      "text/plain": [
       "2"
      ]
     },
     "execution_count": 37,
     "metadata": {},
     "output_type": "execute_result"
    }
   ],
   "source": [
    "a%b"
   ]
  },
  {
   "cell_type": "code",
   "execution_count": 43,
   "metadata": {},
   "outputs": [
    {
     "name": "stdout",
     "output_type": "stream",
     "text": [
      "My name is Tajim.\n",
      "My name is Tajim and i am 24 years old.\n",
      "My BMI + 20.99407320945037.\n"
     ]
    }
   ],
   "source": [
    "#Print\n",
    "my_name = 'Tajim'\n",
    "my_age = 24\n",
    "my_weight = 59\n",
    "my_height = 1.6764\n",
    "\n",
    "print(f'My name is {my_name}.')\n",
    "print(f'My name is {my_name} and i am {my_age} years old.')\n",
    "print(f'My BMI + {my_weight / my_height**2}.')"
   ]
  },
  {
   "cell_type": "code",
   "execution_count": 46,
   "metadata": {},
   "outputs": [
    {
     "name": "stdout",
     "output_type": "stream",
     "text": [
      "Is that joke funny ? {}\n"
     ]
    }
   ],
   "source": [
    "funnyOrNot = False\n",
    "formattedString = \"Is that joke funny ? {}\"\n",
    "print(formattedString)"
   ]
  },
  {
   "cell_type": "code",
   "execution_count": 47,
   "metadata": {},
   "outputs": [
    {
     "name": "stdout",
     "output_type": "stream",
     "text": [
      "Is that joke funny ? False\n"
     ]
    }
   ],
   "source": [
    "funnyOrNot = False\n",
    "formattedString = \"Is that joke funny ? {}\"\n",
    "print(formattedString.format(funnyOrNot))"
   ]
  },
  {
   "cell_type": "code",
   "execution_count": 50,
   "metadata": {},
   "outputs": [
    {
     "name": "stdout",
     "output_type": "stream",
     "text": [
      "We come here to learn python 3. and its realy fantastic or not ? True\n"
     ]
    }
   ],
   "source": [
    "print('We come here to learn {} {}. and its realy fantastic or not ? {}'.format('python', 3, True))"
   ]
  },
  {
   "cell_type": "code",
   "execution_count": 51,
   "metadata": {},
   "outputs": [
    {
     "name": "stdout",
     "output_type": "stream",
     "text": [
      "We come here to learn python 3. and its realy fantastic or not ? False\n"
     ]
    }
   ],
   "source": [
    "print('We come here to learn {} {}. and its realy fantastic or not ? {}'.format('python', 3, funnyOrNot))"
   ]
  },
  {
   "cell_type": "code",
   "execution_count": 52,
   "metadata": {},
   "outputs": [
    {
     "name": "stdout",
     "output_type": "stream",
     "text": [
      "1 2 3 4\n",
      "one two three four\n",
      "True False False True\n",
      "{} {} {} {} {} {} {} {} {} {} {} {} {} {} {} {}\n"
     ]
    }
   ],
   "source": [
    "formatter = '{} {} {} {}'\n",
    "\n",
    "print(formatter.format(1, 2, 3, 4))\n",
    "print(formatter.format('one', 'two', 'three', 'four'))\n",
    "print(formatter.format(True, False, False, True))\n",
    "print(formatter.format(formatter, formatter, formatter, formatter))"
   ]
  },
  {
   "cell_type": "code",
   "execution_count": 59,
   "metadata": {},
   "outputs": [
    {
     "name": "stdout",
     "output_type": "stream",
     "text": [
      "Every person will get 5.25 pcs. The rest will be 1.\n"
     ]
    }
   ],
   "source": [
    "m=21\n",
    "p=4\n",
    "print('Every person will get {} pcs. The rest will be {}.'.format(m/4,m%4))"
   ]
  },
  {
   "cell_type": "code",
   "execution_count": 60,
   "metadata": {},
   "outputs": [
    {
     "name": "stdout",
     "output_type": "stream",
     "text": [
      "Every person will get 5 pcs. The rest will be 1.\n"
     ]
    }
   ],
   "source": [
    "print('Every person will get {} pcs. The rest will be {}.'.format(int(m/4),m%4))"
   ]
  },
  {
   "cell_type": "code",
   "execution_count": 61,
   "metadata": {},
   "outputs": [
    {
     "name": "stdout",
     "output_type": "stream",
     "text": [
      "Every person will get 5 pcs.\n",
      "The rest will be 1.\n"
     ]
    }
   ],
   "source": [
    "print('Every person will get {} pcs.\\nThe rest will be {}.'.format(int(m/4),m%4))"
   ]
  },
  {
   "cell_type": "code",
   "execution_count": null,
   "metadata": {},
   "outputs": [],
   "source": []
  }
 ],
 "metadata": {
  "kernelspec": {
   "display_name": "Python 3",
   "language": "python",
   "name": "python3"
  },
  "language_info": {
   "codemirror_mode": {
    "name": "ipython",
    "version": 3
   },
   "file_extension": ".py",
   "mimetype": "text/x-python",
   "name": "python",
   "nbconvert_exporter": "python",
   "pygments_lexer": "ipython3",
   "version": "3.6.4"
  }
 },
 "nbformat": 4,
 "nbformat_minor": 2
}
